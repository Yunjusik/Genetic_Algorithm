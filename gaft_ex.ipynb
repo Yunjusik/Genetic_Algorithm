{
 "cells": [
  {
   "cell_type": "code",
   "execution_count": 4,
   "metadata": {},
   "outputs": [],
   "source": [
    "import math\n",
    "import numpy as np"
   ]
  },
  {
   "cell_type": "code",
   "execution_count": 3,
   "metadata": {
    "scrolled": true
   },
   "outputs": [
    {
     "data": {
      "text/plain": [
       "3"
      ]
     },
     "execution_count": 3,
     "metadata": {},
     "output_type": "execute_result"
    }
   ],
   "source": [
    "math.comb(3,2)"
   ]
  },
  {
   "cell_type": "code",
   "execution_count": 3,
   "metadata": {},
   "outputs": [],
   "source": [
    "from gaft.components import BinaryIndividual\n",
    "from gaft.components import Population\n",
    "from gaft.operators import TournamentSelection\n",
    "from gaft.operators import UniformCrossover\n",
    "from gaft.operators import FlipBitMutation\n",
    "from gaft.analysis import ConsoleOutput\n",
    "from gaft import GAEngine\n",
    "import math\n",
    "import random"
   ]
  },
  {
   "cell_type": "code",
   "execution_count": 4,
   "metadata": {},
   "outputs": [],
   "source": [
    "    mutation = FlipBitMutation(pm=0.1)\n",
    "    selection = TournamentSelection()\n",
    "    crossover = UniformCrossover(pc=0.8, pe=0.5)\n",
    "    indv = BinaryIndividual(ranges=[(0, 1), (0,1), (0,1)], eps=0.001)\n",
    "    population = Population(indv_template=indv, size=50).init()\n",
    "    engine = GAEngine(population=population, selection=selection,\n",
    "                  crossover=crossover, mutation=mutation,\n",
    "                  analysis=[ConsoleOutput])"
   ]
  },
  {
   "cell_type": "code",
   "execution_count": 5,
   "metadata": {},
   "outputs": [],
   "source": [
    "distance= random.randint(1,200)\n",
    "path_loss=35.3+37.6*math.log10(distance)+8\n",
    "LSCG = 10 **-(path_loss/10)"
   ]
  },
  {
   "cell_type": "code",
   "execution_count": 10,
   "metadata": {},
   "outputs": [],
   "source": [
    "SSCG= np.random.rayleigh()\n",
    "H= SSCG * LSCG"
   ]
  },
  {
   "cell_type": "code",
   "execution_count": 232,
   "metadata": {},
   "outputs": [
    {
     "name": "stdout",
     "output_type": "stream",
     "text": [
      "gaft.ConsoleOutput   INFO     Generation number: 200 Population number: 50\n",
      "gaft.ConsoleOutput   INFO     Generation: 1, best fitness: -0.000, scaled fitness: -0.000\n",
      "gaft.ConsoleOutput   INFO     Generation: 2, best fitness: -0.000, scaled fitness: -0.000\n",
      "gaft.ConsoleOutput   INFO     Generation: 3, best fitness: -0.000, scaled fitness: -0.000\n",
      "gaft.ConsoleOutput   INFO     Generation: 4, best fitness: -0.000, scaled fitness: -0.000\n",
      "gaft.ConsoleOutput   INFO     Generation: 5, best fitness: -0.000, scaled fitness: -0.000\n",
      "gaft.ConsoleOutput   INFO     Generation: 6, best fitness: -0.000, scaled fitness: -0.000\n",
      "gaft.ConsoleOutput   INFO     Generation: 7, best fitness: -0.000, scaled fitness: -0.000\n",
      "gaft.ConsoleOutput   INFO     Generation: 8, best fitness: -0.000, scaled fitness: -0.000\n",
      "gaft.ConsoleOutput   INFO     Generation: 9, best fitness: -0.000, scaled fitness: -0.000\n",
      "gaft.ConsoleOutput   INFO     Generation: 10, best fitness: -0.000, scaled fitness: -0.000\n",
      "gaft.ConsoleOutput   INFO     Generation: 11, best fitness: -0.000, scaled fitness: -0.000\n",
      "gaft.ConsoleOutput   INFO     Generation: 12, best fitness: -0.000, scaled fitness: -0.000\n",
      "gaft.ConsoleOutput   INFO     Generation: 13, best fitness: -0.000, scaled fitness: -0.000\n",
      "gaft.ConsoleOutput   INFO     Generation: 14, best fitness: -0.000, scaled fitness: -0.000\n",
      "gaft.ConsoleOutput   INFO     Generation: 15, best fitness: -0.001, scaled fitness: -0.000\n",
      "gaft.ConsoleOutput   INFO     Generation: 16, best fitness: -0.002, scaled fitness: -0.000\n",
      "gaft.ConsoleOutput   INFO     Generation: 17, best fitness: -0.002, scaled fitness: -0.000\n",
      "gaft.ConsoleOutput   INFO     Generation: 18, best fitness: -0.001, scaled fitness: -0.000\n",
      "gaft.ConsoleOutput   INFO     Generation: 19, best fitness: -0.001, scaled fitness: -0.000\n",
      "gaft.ConsoleOutput   INFO     Generation: 20, best fitness: -0.003, scaled fitness: -0.000\n",
      "gaft.ConsoleOutput   INFO     Generation: 21, best fitness: -0.001, scaled fitness: -0.000\n",
      "gaft.ConsoleOutput   INFO     Generation: 22, best fitness: -0.000, scaled fitness: -0.000\n",
      "gaft.ConsoleOutput   INFO     Generation: 23, best fitness: -0.000, scaled fitness: -0.000\n",
      "gaft.ConsoleOutput   INFO     Generation: 24, best fitness: -0.001, scaled fitness: -0.000\n",
      "gaft.ConsoleOutput   INFO     Generation: 25, best fitness: -0.001, scaled fitness: -0.000\n",
      "gaft.ConsoleOutput   INFO     Generation: 26, best fitness: -0.002, scaled fitness: -0.000\n",
      "gaft.ConsoleOutput   INFO     Generation: 27, best fitness: -0.001, scaled fitness: -0.000\n",
      "gaft.ConsoleOutput   INFO     Generation: 28, best fitness: -0.000, scaled fitness: -0.000\n",
      "gaft.ConsoleOutput   INFO     Generation: 29, best fitness: -0.002, scaled fitness: -0.000\n",
      "gaft.ConsoleOutput   INFO     Generation: 30, best fitness: -0.002, scaled fitness: -0.000\n",
      "gaft.ConsoleOutput   INFO     Generation: 31, best fitness: -0.001, scaled fitness: -0.000\n",
      "gaft.ConsoleOutput   INFO     Generation: 32, best fitness: -0.002, scaled fitness: -0.000\n",
      "gaft.ConsoleOutput   INFO     Generation: 33, best fitness: -0.001, scaled fitness: -0.000\n",
      "gaft.ConsoleOutput   INFO     Generation: 34, best fitness: -0.002, scaled fitness: -0.000\n",
      "gaft.ConsoleOutput   INFO     Generation: 35, best fitness: -0.001, scaled fitness: -0.000\n",
      "gaft.ConsoleOutput   INFO     Generation: 36, best fitness: -0.001, scaled fitness: -0.000\n",
      "gaft.ConsoleOutput   INFO     Generation: 37, best fitness: -0.001, scaled fitness: -0.000\n",
      "gaft.ConsoleOutput   INFO     Generation: 38, best fitness: -0.001, scaled fitness: -0.000\n",
      "gaft.ConsoleOutput   INFO     Generation: 39, best fitness: -0.002, scaled fitness: -0.000\n",
      "gaft.ConsoleOutput   INFO     Generation: 40, best fitness: -0.001, scaled fitness: -0.000\n",
      "gaft.ConsoleOutput   INFO     Generation: 41, best fitness: -0.001, scaled fitness: -0.000\n",
      "gaft.ConsoleOutput   INFO     Generation: 42, best fitness: -0.001, scaled fitness: -0.000\n",
      "gaft.ConsoleOutput   INFO     Generation: 43, best fitness: -0.002, scaled fitness: -0.000\n",
      "gaft.ConsoleOutput   INFO     Generation: 44, best fitness: -0.001, scaled fitness: -0.000\n",
      "gaft.ConsoleOutput   INFO     Generation: 45, best fitness: -0.000, scaled fitness: -0.000\n",
      "gaft.ConsoleOutput   INFO     Generation: 46, best fitness: -0.000, scaled fitness: -0.000\n",
      "gaft.ConsoleOutput   INFO     Generation: 47, best fitness: -0.000, scaled fitness: -0.000\n",
      "gaft.ConsoleOutput   INFO     Generation: 48, best fitness: -0.000, scaled fitness: -0.000\n",
      "gaft.ConsoleOutput   INFO     Generation: 49, best fitness: -0.000, scaled fitness: -0.000\n",
      "gaft.ConsoleOutput   INFO     Generation: 50, best fitness: -0.000, scaled fitness: -0.000\n",
      "gaft.ConsoleOutput   INFO     Generation: 51, best fitness: -0.000, scaled fitness: -0.000\n",
      "gaft.ConsoleOutput   INFO     Generation: 52, best fitness: -0.000, scaled fitness: -0.000\n",
      "gaft.ConsoleOutput   INFO     Generation: 53, best fitness: -0.000, scaled fitness: -0.000\n",
      "gaft.ConsoleOutput   INFO     Generation: 54, best fitness: -0.002, scaled fitness: -0.000\n",
      "gaft.ConsoleOutput   INFO     Generation: 55, best fitness: -0.001, scaled fitness: -0.000\n",
      "gaft.ConsoleOutput   INFO     Generation: 56, best fitness: -0.001, scaled fitness: -0.000\n",
      "gaft.ConsoleOutput   INFO     Generation: 57, best fitness: -0.001, scaled fitness: -0.000\n",
      "gaft.ConsoleOutput   INFO     Generation: 58, best fitness: -0.001, scaled fitness: -0.000\n",
      "gaft.ConsoleOutput   INFO     Generation: 59, best fitness: -0.001, scaled fitness: -0.000\n",
      "gaft.ConsoleOutput   INFO     Generation: 60, best fitness: -0.001, scaled fitness: -0.000\n",
      "gaft.ConsoleOutput   INFO     Generation: 61, best fitness: -0.001, scaled fitness: -0.000\n",
      "gaft.ConsoleOutput   INFO     Generation: 62, best fitness: -0.001, scaled fitness: -0.000\n",
      "gaft.ConsoleOutput   INFO     Generation: 63, best fitness: -0.000, scaled fitness: -0.000\n",
      "gaft.ConsoleOutput   INFO     Generation: 64, best fitness: -0.002, scaled fitness: -0.000\n",
      "gaft.ConsoleOutput   INFO     Generation: 65, best fitness: -0.001, scaled fitness: -0.000\n",
      "gaft.ConsoleOutput   INFO     Generation: 66, best fitness: -0.001, scaled fitness: -0.000\n",
      "gaft.ConsoleOutput   INFO     Generation: 67, best fitness: -0.000, scaled fitness: -0.000\n",
      "gaft.ConsoleOutput   INFO     Generation: 68, best fitness: -0.001, scaled fitness: -0.000\n",
      "gaft.ConsoleOutput   INFO     Generation: 69, best fitness: -0.000, scaled fitness: -0.000\n",
      "gaft.ConsoleOutput   INFO     Generation: 70, best fitness: -0.001, scaled fitness: -0.000\n",
      "gaft.ConsoleOutput   INFO     Generation: 71, best fitness: -0.001, scaled fitness: -0.000\n",
      "gaft.ConsoleOutput   INFO     Generation: 72, best fitness: -0.001, scaled fitness: -0.000\n",
      "gaft.ConsoleOutput   INFO     Generation: 73, best fitness: -0.001, scaled fitness: -0.000\n",
      "gaft.ConsoleOutput   INFO     Generation: 74, best fitness: -0.000, scaled fitness: -0.000\n",
      "gaft.ConsoleOutput   INFO     Generation: 75, best fitness: -0.000, scaled fitness: -0.000\n",
      "gaft.ConsoleOutput   INFO     Generation: 76, best fitness: -0.000, scaled fitness: -0.000\n",
      "gaft.ConsoleOutput   INFO     Generation: 77, best fitness: -0.000, scaled fitness: -0.000\n",
      "gaft.ConsoleOutput   INFO     Generation: 78, best fitness: -0.001, scaled fitness: -0.000\n",
      "gaft.ConsoleOutput   INFO     Generation: 79, best fitness: -0.001, scaled fitness: -0.000\n",
      "gaft.ConsoleOutput   INFO     Generation: 80, best fitness: -0.003, scaled fitness: -0.000\n",
      "gaft.ConsoleOutput   INFO     Generation: 81, best fitness: -0.001, scaled fitness: -0.000\n",
      "gaft.ConsoleOutput   INFO     Generation: 82, best fitness: -0.003, scaled fitness: -0.000\n",
      "gaft.ConsoleOutput   INFO     Generation: 83, best fitness: -0.002, scaled fitness: -0.000\n",
      "gaft.ConsoleOutput   INFO     Generation: 84, best fitness: -0.002, scaled fitness: -0.000\n",
      "gaft.ConsoleOutput   INFO     Generation: 85, best fitness: -0.001, scaled fitness: -0.000\n",
      "gaft.ConsoleOutput   INFO     Generation: 86, best fitness: -0.002, scaled fitness: -0.000\n",
      "gaft.ConsoleOutput   INFO     Generation: 87, best fitness: -0.001, scaled fitness: -0.000\n",
      "gaft.ConsoleOutput   INFO     Generation: 88, best fitness: -0.001, scaled fitness: -0.000\n",
      "gaft.ConsoleOutput   INFO     Generation: 89, best fitness: -0.001, scaled fitness: -0.000\n",
      "gaft.ConsoleOutput   INFO     Generation: 90, best fitness: -0.001, scaled fitness: -0.000\n"
     ]
    },
    {
     "name": "stdout",
     "output_type": "stream",
     "text": [
      "gaft.ConsoleOutput   INFO     Generation: 91, best fitness: -0.001, scaled fitness: -0.000\n",
      "gaft.ConsoleOutput   INFO     Generation: 92, best fitness: -0.000, scaled fitness: -0.000\n",
      "gaft.ConsoleOutput   INFO     Generation: 93, best fitness: -0.000, scaled fitness: -0.000\n",
      "gaft.ConsoleOutput   INFO     Generation: 94, best fitness: -0.000, scaled fitness: -0.000\n",
      "gaft.ConsoleOutput   INFO     Generation: 95, best fitness: -0.000, scaled fitness: -0.000\n",
      "gaft.ConsoleOutput   INFO     Generation: 96, best fitness: -0.000, scaled fitness: -0.000\n",
      "gaft.ConsoleOutput   INFO     Generation: 97, best fitness: -0.000, scaled fitness: -0.000\n",
      "gaft.ConsoleOutput   INFO     Generation: 98, best fitness: -0.000, scaled fitness: -0.000\n",
      "gaft.ConsoleOutput   INFO     Generation: 99, best fitness: -0.001, scaled fitness: -0.000\n",
      "gaft.ConsoleOutput   INFO     Generation: 100, best fitness: -0.001, scaled fitness: -0.000\n",
      "gaft.ConsoleOutput   INFO     Generation: 101, best fitness: -0.001, scaled fitness: -0.000\n",
      "gaft.ConsoleOutput   INFO     Generation: 102, best fitness: -0.002, scaled fitness: -0.000\n",
      "gaft.ConsoleOutput   INFO     Generation: 103, best fitness: -0.001, scaled fitness: -0.000\n",
      "gaft.ConsoleOutput   INFO     Generation: 104, best fitness: -0.001, scaled fitness: -0.000\n",
      "gaft.ConsoleOutput   INFO     Generation: 105, best fitness: -0.001, scaled fitness: -0.000\n",
      "gaft.ConsoleOutput   INFO     Generation: 106, best fitness: -0.001, scaled fitness: -0.000\n",
      "gaft.ConsoleOutput   INFO     Generation: 107, best fitness: -0.000, scaled fitness: -0.000\n",
      "gaft.ConsoleOutput   INFO     Generation: 108, best fitness: -0.000, scaled fitness: -0.000\n",
      "gaft.ConsoleOutput   INFO     Generation: 109, best fitness: -0.000, scaled fitness: -0.000\n",
      "gaft.ConsoleOutput   INFO     Generation: 110, best fitness: -0.000, scaled fitness: -0.000\n",
      "gaft.ConsoleOutput   INFO     Generation: 111, best fitness: -0.000, scaled fitness: -0.000\n",
      "gaft.ConsoleOutput   INFO     Generation: 112, best fitness: -0.000, scaled fitness: -0.000\n",
      "gaft.ConsoleOutput   INFO     Generation: 113, best fitness: -0.000, scaled fitness: -0.000\n",
      "gaft.ConsoleOutput   INFO     Generation: 114, best fitness: -0.000, scaled fitness: -0.000\n",
      "gaft.ConsoleOutput   INFO     Generation: 115, best fitness: -0.000, scaled fitness: -0.000\n",
      "gaft.ConsoleOutput   INFO     Generation: 116, best fitness: -0.000, scaled fitness: -0.000\n",
      "gaft.ConsoleOutput   INFO     Generation: 117, best fitness: -0.001, scaled fitness: -0.000\n",
      "gaft.ConsoleOutput   INFO     Generation: 118, best fitness: -0.001, scaled fitness: -0.000\n",
      "gaft.ConsoleOutput   INFO     Generation: 119, best fitness: -0.001, scaled fitness: -0.000\n",
      "gaft.ConsoleOutput   INFO     Generation: 120, best fitness: -0.001, scaled fitness: -0.000\n",
      "gaft.ConsoleOutput   INFO     Generation: 121, best fitness: -0.001, scaled fitness: -0.000\n",
      "gaft.ConsoleOutput   INFO     Generation: 122, best fitness: -0.001, scaled fitness: -0.000\n",
      "gaft.ConsoleOutput   INFO     Generation: 123, best fitness: -0.001, scaled fitness: -0.000\n",
      "gaft.ConsoleOutput   INFO     Generation: 124, best fitness: -0.000, scaled fitness: -0.000\n",
      "gaft.ConsoleOutput   INFO     Generation: 125, best fitness: -0.003, scaled fitness: -0.000\n",
      "gaft.ConsoleOutput   INFO     Generation: 126, best fitness: -0.001, scaled fitness: -0.000\n",
      "gaft.ConsoleOutput   INFO     Generation: 127, best fitness: -0.002, scaled fitness: -0.000\n",
      "gaft.ConsoleOutput   INFO     Generation: 128, best fitness: -0.000, scaled fitness: -0.000\n",
      "gaft.ConsoleOutput   INFO     Generation: 129, best fitness: -0.002, scaled fitness: -0.000\n",
      "gaft.ConsoleOutput   INFO     Generation: 130, best fitness: -0.001, scaled fitness: -0.000\n",
      "gaft.ConsoleOutput   INFO     Generation: 131, best fitness: -0.001, scaled fitness: -0.000\n",
      "gaft.ConsoleOutput   INFO     Generation: 132, best fitness: -0.002, scaled fitness: -0.000\n",
      "gaft.ConsoleOutput   INFO     Generation: 133, best fitness: -0.001, scaled fitness: -0.000\n",
      "gaft.ConsoleOutput   INFO     Generation: 134, best fitness: -0.001, scaled fitness: -0.000\n",
      "gaft.ConsoleOutput   INFO     Generation: 135, best fitness: -0.001, scaled fitness: -0.000\n",
      "gaft.ConsoleOutput   INFO     Generation: 136, best fitness: -0.002, scaled fitness: -0.000\n",
      "gaft.ConsoleOutput   INFO     Generation: 137, best fitness: -0.001, scaled fitness: -0.000\n",
      "gaft.ConsoleOutput   INFO     Generation: 138, best fitness: -0.001, scaled fitness: -0.000\n",
      "gaft.ConsoleOutput   INFO     Generation: 139, best fitness: -0.001, scaled fitness: -0.000\n",
      "gaft.ConsoleOutput   INFO     Generation: 140, best fitness: -0.001, scaled fitness: -0.000\n",
      "gaft.ConsoleOutput   INFO     Generation: 141, best fitness: -0.001, scaled fitness: -0.000\n",
      "gaft.ConsoleOutput   INFO     Generation: 142, best fitness: -0.001, scaled fitness: -0.000\n",
      "gaft.ConsoleOutput   INFO     Generation: 143, best fitness: -0.003, scaled fitness: -0.000\n",
      "gaft.ConsoleOutput   INFO     Generation: 144, best fitness: -0.000, scaled fitness: -0.000\n",
      "gaft.ConsoleOutput   INFO     Generation: 145, best fitness: -0.003, scaled fitness: -0.000\n",
      "gaft.ConsoleOutput   INFO     Generation: 146, best fitness: -0.001, scaled fitness: -0.000\n",
      "gaft.ConsoleOutput   INFO     Generation: 147, best fitness: -0.000, scaled fitness: -0.000\n",
      "gaft.ConsoleOutput   INFO     Generation: 148, best fitness: -0.000, scaled fitness: -0.000\n",
      "gaft.ConsoleOutput   INFO     Generation: 149, best fitness: -0.000, scaled fitness: -0.000\n",
      "gaft.ConsoleOutput   INFO     Generation: 150, best fitness: -0.000, scaled fitness: -0.000\n",
      "gaft.ConsoleOutput   INFO     Generation: 151, best fitness: -0.000, scaled fitness: -0.000\n",
      "gaft.ConsoleOutput   INFO     Generation: 152, best fitness: -0.001, scaled fitness: -0.000\n",
      "gaft.ConsoleOutput   INFO     Generation: 153, best fitness: -0.001, scaled fitness: -0.000\n",
      "gaft.ConsoleOutput   INFO     Generation: 154, best fitness: -0.000, scaled fitness: -0.000\n",
      "gaft.ConsoleOutput   INFO     Generation: 155, best fitness: -0.000, scaled fitness: -0.000\n",
      "gaft.ConsoleOutput   INFO     Generation: 156, best fitness: -0.001, scaled fitness: -0.000\n",
      "gaft.ConsoleOutput   INFO     Generation: 157, best fitness: -0.001, scaled fitness: -0.000\n",
      "gaft.ConsoleOutput   INFO     Generation: 158, best fitness: -0.001, scaled fitness: -0.000\n",
      "gaft.ConsoleOutput   INFO     Generation: 159, best fitness: -0.003, scaled fitness: -0.000\n",
      "gaft.ConsoleOutput   INFO     Generation: 160, best fitness: -0.001, scaled fitness: -0.000\n",
      "gaft.ConsoleOutput   INFO     Generation: 161, best fitness: -0.002, scaled fitness: -0.000\n",
      "gaft.ConsoleOutput   INFO     Generation: 162, best fitness: -0.000, scaled fitness: -0.000\n",
      "gaft.ConsoleOutput   INFO     Generation: 163, best fitness: -0.001, scaled fitness: -0.000\n",
      "gaft.ConsoleOutput   INFO     Generation: 164, best fitness: -0.002, scaled fitness: -0.000\n",
      "gaft.ConsoleOutput   INFO     Generation: 165, best fitness: -0.003, scaled fitness: -0.000\n",
      "gaft.ConsoleOutput   INFO     Generation: 166, best fitness: -0.001, scaled fitness: -0.000\n",
      "gaft.ConsoleOutput   INFO     Generation: 167, best fitness: -0.002, scaled fitness: -0.000\n",
      "gaft.ConsoleOutput   INFO     Generation: 168, best fitness: -0.002, scaled fitness: -0.000\n",
      "gaft.ConsoleOutput   INFO     Generation: 169, best fitness: -0.001, scaled fitness: -0.000\n",
      "gaft.ConsoleOutput   INFO     Generation: 170, best fitness: -0.001, scaled fitness: -0.000\n",
      "gaft.ConsoleOutput   INFO     Generation: 171, best fitness: -0.001, scaled fitness: -0.000\n",
      "gaft.ConsoleOutput   INFO     Generation: 172, best fitness: -0.002, scaled fitness: -0.000\n",
      "gaft.ConsoleOutput   INFO     Generation: 173, best fitness: -0.001, scaled fitness: -0.000\n",
      "gaft.ConsoleOutput   INFO     Generation: 174, best fitness: -0.001, scaled fitness: -0.000\n",
      "gaft.ConsoleOutput   INFO     Generation: 175, best fitness: -0.001, scaled fitness: -0.000\n",
      "gaft.ConsoleOutput   INFO     Generation: 176, best fitness: -0.001, scaled fitness: -0.000\n",
      "gaft.ConsoleOutput   INFO     Generation: 177, best fitness: -0.000, scaled fitness: -0.000\n",
      "gaft.ConsoleOutput   INFO     Generation: 178, best fitness: -0.001, scaled fitness: -0.000\n",
      "gaft.ConsoleOutput   INFO     Generation: 179, best fitness: -0.001, scaled fitness: -0.000\n",
      "gaft.ConsoleOutput   INFO     Generation: 180, best fitness: -0.001, scaled fitness: -0.000\n"
     ]
    },
    {
     "name": "stdout",
     "output_type": "stream",
     "text": [
      "gaft.ConsoleOutput   INFO     Generation: 181, best fitness: -0.001, scaled fitness: -0.000\n",
      "gaft.ConsoleOutput   INFO     Generation: 182, best fitness: -0.000, scaled fitness: -0.000\n",
      "gaft.ConsoleOutput   INFO     Generation: 183, best fitness: -0.000, scaled fitness: -0.000\n",
      "gaft.ConsoleOutput   INFO     Generation: 184, best fitness: -0.001, scaled fitness: -0.000\n",
      "gaft.ConsoleOutput   INFO     Generation: 185, best fitness: -0.000, scaled fitness: -0.000\n",
      "gaft.ConsoleOutput   INFO     Generation: 186, best fitness: -0.000, scaled fitness: -0.000\n",
      "gaft.ConsoleOutput   INFO     Generation: 187, best fitness: -0.000, scaled fitness: -0.000\n",
      "gaft.ConsoleOutput   INFO     Generation: 188, best fitness: -0.000, scaled fitness: -0.000\n",
      "gaft.ConsoleOutput   INFO     Generation: 189, best fitness: -0.000, scaled fitness: -0.000\n",
      "gaft.ConsoleOutput   INFO     Generation: 190, best fitness: -0.000, scaled fitness: -0.000\n",
      "gaft.ConsoleOutput   INFO     Generation: 191, best fitness: -0.000, scaled fitness: -0.000\n",
      "gaft.ConsoleOutput   INFO     Generation: 192, best fitness: -0.000, scaled fitness: -0.000\n",
      "gaft.ConsoleOutput   INFO     Generation: 193, best fitness: -0.000, scaled fitness: -0.000\n",
      "gaft.ConsoleOutput   INFO     Generation: 194, best fitness: -0.002, scaled fitness: -0.000\n",
      "gaft.ConsoleOutput   INFO     Generation: 195, best fitness: -0.002, scaled fitness: -0.000\n",
      "gaft.ConsoleOutput   INFO     Generation: 196, best fitness: -0.002, scaled fitness: -0.000\n",
      "gaft.ConsoleOutput   INFO     Generation: 197, best fitness: -0.002, scaled fitness: -0.000\n",
      "gaft.ConsoleOutput   INFO     Generation: 198, best fitness: -0.003, scaled fitness: -0.000\n",
      "gaft.ConsoleOutput   INFO     Generation: 199, best fitness: -0.001, scaled fitness: -0.000\n",
      "gaft.ConsoleOutput   INFO     Generation: 200, best fitness: -0.000, scaled fitness: -0.000\n",
      "gaft.ConsoleOutput   INFO     Optimal solution: ([0.681640625, 0.0, 0.2109375], -0.00020399095716105723)\n"
     ]
    }
   ],
   "source": [
    "@engine.fitness_register\n",
    "@engine.minimize\n",
    "def fitness(indv): ###########피트니스 함수를 조건부로 새로짜야함\n",
    "    \n",
    "    f,o,p, = indv.solution\n",
    "    \n",
    "    pen=0\n",
    "    BW = 180000\n",
    "    distance= random.randint(1,200)\n",
    "    path_loss=35.3+37.6*math.log10(distance)+8\n",
    "    LSCG = 10 **-(path_loss/10)\n",
    "    SSCG = np.random.rayleigh()\n",
    "    H = SSCG * LSCG\n",
    "    max_SNR = (H * 0.2)/(BW * (10**(-20.4)))\n",
    "    max_D_rate = (BW * math.log2(1+(H * 0.2)/(BW * (10**(-20.4)))))\n",
    "    T_delay_min = 32*8/max_D_rate \n",
    "    \n",
    "    if T_delay_min > 0.000125 : ## one time slot 초과시.\n",
    "        o=1\n",
    "        p=0\n",
    "        \n",
    "        T_local_proc = (330*32)/(125000 * (f))*0.000125    \n",
    "        if T_local_proc < 0.001  ## local 처리시 time 만족한다면.\n",
    "            done_time = false\n",
    "            return \n",
    "        \n",
    "    \n",
    "    f=  f+0.000001\n",
    "    o = o+0.000001\n",
    "    p = p+0.000001\n",
    "    \n",
    "    BW = 180000\n",
    "    global H\n",
    "    distance= random.randint(1,200)\n",
    "    path_loss=35.3+37.6*math.log10(distance)+8\n",
    "    LSCG = 10 **-(path_loss/10)\n",
    "    SSCG = np.random.rayleigh()\n",
    "    H = SSCG * LSCG\n",
    "    SNR_u = (H * 0.2* p )/(BW * (10**(-20.4)))\n",
    "    D_rate = (BW * math.log2(1+(H * 0.2* p )/(BW * (10**(-20.4)))))\n",
    "    T_delay = 32*8/D_rate\n",
    "    \n",
    "    \n",
    "    ################### T_delay가 0.000125초 미만으로 들어오면 오프로딩.\n",
    "    ###################그렇지 못할경우 로컬처리는 어떠한가?\n",
    "    ##################로컬처리라면 o = 1로바뀌고, p=0으로정한다.\n",
    "    \n",
    "    global done_error\n",
    "    done_error=False\n",
    "    global done_time\n",
    "    done_time=False\n",
    "     \n",
    "    if o> 0.000001 :## 로컬처리비율이 존재할때\n",
    "        T_local_proc = (330*32)/(125000 * (f))   \n",
    "        D = math.ceil(T_local_proc)\n",
    "        q = o*0.1\n",
    "        roh = q*D\n",
    "        ii = math.ceil(8-T_local_proc) \n",
    "        jj = math.floor(ii/D)\n",
    "        SIGMA = 0\n",
    "        for k in range(jj + 1):\n",
    "            SIGMA = SIGMA + ((q * ((1 - q) ** (D - 1))) ** k) * ((-1) ** k) * math.comb(ii + k - k * D, k)\n",
    "        error_u = 1 - ((1 - q) ** (-ii - 1)) * (1 - roh) * SIGMA  # find error\n",
    "        if error_u > 10**-7:\n",
    "            pen = 100 * (error_u-10**-7)\n",
    "            done_error = True\n",
    "    \n",
    "            \n",
    "    \n",
    "    if T_delay > 0.000125 :  ## if transmission delay is larger than time slot\n",
    "        pen = 10+1000*(T_delay-0.000125)\n",
    "        done_time = True\n",
    "        \n",
    "    global done_urllc\n",
    "    done_urllc = done_time or done_error\n",
    "    \n",
    "    \n",
    "    \n",
    "    \n",
    "    solve = (10**(-15))*((125000*f)**2) * o * (330*32) + (1-o)*(0.2*p)*(32*8)/(D_rate) + pen\n",
    "    \n",
    "    return solve\n",
    "\n",
    "engine.run(ng=200)\n",
    "best_indv = engine.population.best_indv(engine.fitness)\n",
    "best_indv.solution\n",
    "E_consumption = (10**(-15))*((125000*best_indv.solution[0])**2) * best_indv.solution[1] * (330*32) + (1-best_indv.solution[1])*(0.2*best_indv.solution[2])*0.000125\n"
   ]
  },
  {
   "cell_type": "code",
   "execution_count": 233,
   "metadata": {},
   "outputs": [],
   "source": [
    "best_indv = engine.population.best_indv(engine.fitness)"
   ]
  },
  {
   "cell_type": "code",
   "execution_count": 234,
   "metadata": {},
   "outputs": [
    {
     "data": {
      "text/plain": [
       "[0.681640625, 0.0, 0.2109375]"
      ]
     },
     "execution_count": 234,
     "metadata": {},
     "output_type": "execute_result"
    }
   ],
   "source": [
    "best_indv.solution"
   ]
  },
  {
   "cell_type": "code",
   "execution_count": 235,
   "metadata": {},
   "outputs": [
    {
     "data": {
      "text/plain": [
       "-4.99477362041591e-06"
      ]
     },
     "execution_count": 235,
     "metadata": {},
     "output_type": "execute_result"
    }
   ],
   "source": [
    "engine.fitness(best_indv)"
   ]
  },
  {
   "cell_type": "code",
   "execution_count": 236,
   "metadata": {},
   "outputs": [
    {
     "data": {
      "text/plain": [
       "5.2734375e-06"
      ]
     },
     "execution_count": 236,
     "metadata": {},
     "output_type": "execute_result"
    }
   ],
   "source": [
    "E_consumption"
   ]
  },
  {
   "cell_type": "code",
   "execution_count": 237,
   "metadata": {},
   "outputs": [
    {
     "data": {
      "text/plain": [
       "False"
      ]
     },
     "execution_count": 237,
     "metadata": {},
     "output_type": "execute_result"
    }
   ],
   "source": [
    "done_urllc"
   ]
  },
  {
   "cell_type": "code",
   "execution_count": 238,
   "metadata": {},
   "outputs": [
    {
     "data": {
      "text/plain": [
       "2.2961474228093125e-12"
      ]
     },
     "execution_count": 238,
     "metadata": {},
     "output_type": "execute_result"
    }
   ],
   "source": [
    "H"
   ]
  },
  {
   "cell_type": "code",
   "execution_count": 239,
   "metadata": {},
   "outputs": [
    {
     "data": {
      "text/plain": [
       "False"
      ]
     },
     "execution_count": 239,
     "metadata": {},
     "output_type": "execute_result"
    }
   ],
   "source": [
    "done_time\n"
   ]
  },
  {
   "cell_type": "code",
   "execution_count": 240,
   "metadata": {},
   "outputs": [
    {
     "data": {
      "text/plain": [
       "False"
      ]
     },
     "execution_count": 240,
     "metadata": {},
     "output_type": "execute_result"
    }
   ],
   "source": [
    "done_error"
   ]
  },
  {
   "cell_type": "code",
   "execution_count": null,
   "metadata": {},
   "outputs": [],
   "source": []
  },
  {
   "cell_type": "code",
   "execution_count": null,
   "metadata": {},
   "outputs": [],
   "source": []
  },
  {
   "cell_type": "markdown",
   "metadata": {},
   "source": [
    "# URLLC GA, local processing part"
   ]
  },
  {
   "cell_type": "code",
   "execution_count": 40,
   "metadata": {},
   "outputs": [],
   "source": [
    "    mutation = FlipBitMutation(pm=0.1)\n",
    "    selection = TournamentSelection()\n",
    "    crossover = UniformCrossover(pc=0.8, pe=0.5)\n",
    "    indv = BinaryIndividual(ranges=[(0, 1)], eps=0.001)\n",
    "    population = Population(indv_template=indv, size=50).init()\n",
    "    engine = GAEngine(population=population, selection=selection,\n",
    "                  crossover=crossover, mutation=mutation,\n",
    "                  analysis=[ConsoleOutput])"
   ]
  },
  {
   "cell_type": "code",
   "execution_count": 87,
   "metadata": {},
   "outputs": [
    {
     "name": "stdout",
     "output_type": "stream",
     "text": [
      "gaft.ConsoleOutput   INFO     Generation number: 50 Population number: 50\n",
      "gaft.ConsoleOutput   INFO     Generation: 1, best fitness: -0.001, scaled fitness: -0.001\n",
      "gaft.ConsoleOutput   INFO     Generation: 2, best fitness: -0.000, scaled fitness: -0.001\n",
      "gaft.ConsoleOutput   INFO     Generation: 3, best fitness: -0.000, scaled fitness: -0.001\n",
      "gaft.ConsoleOutput   INFO     Generation: 4, best fitness: -0.001, scaled fitness: -0.001\n",
      "gaft.ConsoleOutput   INFO     Generation: 5, best fitness: -0.001, scaled fitness: -0.001\n",
      "gaft.ConsoleOutput   INFO     Generation: 6, best fitness: -0.000, scaled fitness: -0.001\n",
      "gaft.ConsoleOutput   INFO     Generation: 7, best fitness: -0.001, scaled fitness: -0.001\n",
      "gaft.ConsoleOutput   INFO     Generation: 8, best fitness: -0.001, scaled fitness: -0.001\n",
      "gaft.ConsoleOutput   INFO     Generation: 9, best fitness: -0.001, scaled fitness: -0.001\n",
      "gaft.ConsoleOutput   INFO     Generation: 10, best fitness: -0.001, scaled fitness: -0.001\n",
      "gaft.ConsoleOutput   INFO     Generation: 11, best fitness: -0.001, scaled fitness: -0.001\n",
      "gaft.ConsoleOutput   INFO     Generation: 12, best fitness: -0.000, scaled fitness: -0.001\n",
      "gaft.ConsoleOutput   INFO     Generation: 13, best fitness: -0.001, scaled fitness: -0.001\n",
      "gaft.ConsoleOutput   INFO     Generation: 14, best fitness: -0.001, scaled fitness: -0.001\n",
      "gaft.ConsoleOutput   INFO     Generation: 15, best fitness: -0.000, scaled fitness: -0.001\n",
      "gaft.ConsoleOutput   INFO     Generation: 16, best fitness: -0.001, scaled fitness: -0.001\n",
      "gaft.ConsoleOutput   INFO     Generation: 17, best fitness: -0.000, scaled fitness: -0.001\n",
      "gaft.ConsoleOutput   INFO     Generation: 18, best fitness: -0.001, scaled fitness: -0.001\n",
      "gaft.ConsoleOutput   INFO     Generation: 19, best fitness: -0.001, scaled fitness: -0.001\n",
      "gaft.ConsoleOutput   INFO     Generation: 20, best fitness: -0.001, scaled fitness: -0.001\n",
      "gaft.ConsoleOutput   INFO     Generation: 21, best fitness: -0.001, scaled fitness: -0.001\n",
      "gaft.ConsoleOutput   INFO     Generation: 22, best fitness: -0.001, scaled fitness: -0.001\n",
      "gaft.ConsoleOutput   INFO     Generation: 23, best fitness: -0.001, scaled fitness: -0.001\n",
      "gaft.ConsoleOutput   INFO     Generation: 24, best fitness: -0.000, scaled fitness: -0.001\n",
      "gaft.ConsoleOutput   INFO     Generation: 25, best fitness: -0.001, scaled fitness: -0.001\n",
      "gaft.ConsoleOutput   INFO     Generation: 26, best fitness: -0.001, scaled fitness: -0.001\n",
      "gaft.ConsoleOutput   INFO     Generation: 27, best fitness: -0.000, scaled fitness: -0.001\n",
      "gaft.ConsoleOutput   INFO     Generation: 28, best fitness: -0.000, scaled fitness: -0.001\n",
      "gaft.ConsoleOutput   INFO     Generation: 29, best fitness: -0.001, scaled fitness: -0.001\n",
      "gaft.ConsoleOutput   INFO     Generation: 30, best fitness: -0.001, scaled fitness: -0.001\n",
      "gaft.ConsoleOutput   INFO     Generation: 31, best fitness: -0.001, scaled fitness: -0.001\n",
      "gaft.ConsoleOutput   INFO     Generation: 32, best fitness: -0.001, scaled fitness: -0.001\n",
      "gaft.ConsoleOutput   INFO     Generation: 33, best fitness: -0.001, scaled fitness: -0.001\n",
      "gaft.ConsoleOutput   INFO     Generation: 34, best fitness: -0.001, scaled fitness: -0.001\n",
      "gaft.ConsoleOutput   INFO     Generation: 35, best fitness: -0.001, scaled fitness: -0.001\n",
      "gaft.ConsoleOutput   INFO     Generation: 36, best fitness: -0.001, scaled fitness: -0.001\n",
      "gaft.ConsoleOutput   INFO     Generation: 37, best fitness: -0.000, scaled fitness: -0.001\n",
      "gaft.ConsoleOutput   INFO     Generation: 38, best fitness: -0.001, scaled fitness: -0.001\n",
      "gaft.ConsoleOutput   INFO     Generation: 39, best fitness: -0.000, scaled fitness: -0.001\n",
      "gaft.ConsoleOutput   INFO     Generation: 40, best fitness: -0.000, scaled fitness: -0.001\n",
      "gaft.ConsoleOutput   INFO     Generation: 41, best fitness: -0.000, scaled fitness: -0.001\n",
      "gaft.ConsoleOutput   INFO     Generation: 42, best fitness: -0.000, scaled fitness: -0.001\n",
      "gaft.ConsoleOutput   INFO     Generation: 43, best fitness: -0.001, scaled fitness: -0.001\n",
      "gaft.ConsoleOutput   INFO     Generation: 44, best fitness: -0.001, scaled fitness: -0.001\n",
      "gaft.ConsoleOutput   INFO     Generation: 45, best fitness: -0.001, scaled fitness: -0.001\n",
      "gaft.ConsoleOutput   INFO     Generation: 46, best fitness: -0.001, scaled fitness: -0.001\n",
      "gaft.ConsoleOutput   INFO     Generation: 47, best fitness: -0.000, scaled fitness: -0.001\n",
      "gaft.ConsoleOutput   INFO     Generation: 48, best fitness: -0.000, scaled fitness: -0.001\n",
      "gaft.ConsoleOutput   INFO     Generation: 49, best fitness: -0.000, scaled fitness: -0.001\n",
      "gaft.ConsoleOutput   INFO     Generation: 50, best fitness: -0.000, scaled fitness: -0.001\n",
      "gaft.ConsoleOutput   INFO     Optimal solution: ([0.0859375], -0.00011728034907057762)\n"
     ]
    }
   ],
   "source": [
    "@engine.fitness_register\n",
    "@engine.minimize\n",
    "\n",
    "def fitness(indv): ###########피트니스 함수를 조건부로 새로짜야함\n",
    "    \n",
    "    global done_time\n",
    "    done_time = False\n",
    "    global done_error\n",
    "    done_error = False\n",
    "    \n",
    "    f, = indv.solution\n",
    "    \n",
    "    pen = 0\n",
    "    q = 0.1\n",
    "    D = math.ceil((330*32)/(125000*(f+0.00001)))\n",
    "    roh = q*D    \n",
    "    ii = math.ceil(8-D)\n",
    "    jj = math.floor(ii/D)\n",
    "    SIGMA = 0\n",
    "    error_u = 0\n",
    "        \n",
    "    for k in range(jj + 1):\n",
    "        SIGMA = SIGMA + ((q * ((1 - q) ** (D - 1))) ** k) * ((-1) ** k) * math.comb(ii + k - k * D, k)\n",
    "        error_u = 1 - ((1 - q) ** (-ii - 1)) * (1 - roh) * SIGMA  # find error\n",
    "        \n",
    "    if D > 8: # 8 time slot = 0.001 second\n",
    "        pen = 5+100*(D - 8) \n",
    "        done_time = True\n",
    "        \n",
    "    if error_u > 10**-7:\n",
    "        pen = 5+ 100*(error_u - 10**-7)\n",
    "        done_error = True\n",
    "        \n",
    "    return (10**(-15))*((125000*f)**2)*(330*32) + pen\n",
    "\n",
    "engine.run(ng=50)\n",
    "\n",
    "best_indv = engine.population.best_indv(engine.fitness)\n",
    "f = best_indv.solution[0]\n",
    "Off_bit = 0\n",
    "T_d = 0\n",
    "done = done_time or done_error\n",
    "EE = (10**(-15))*((125000*f)**2) * (330*32)\n",
    "        "
   ]
  },
  {
   "cell_type": "code",
   "execution_count": 88,
   "metadata": {},
   "outputs": [
    {
     "data": {
      "text/plain": [
       "0.0012185668945312502"
      ]
     },
     "execution_count": 88,
     "metadata": {},
     "output_type": "execute_result"
    }
   ],
   "source": [
    "EE"
   ]
  },
  {
   "cell_type": "code",
   "execution_count": 89,
   "metadata": {},
   "outputs": [
    {
     "data": {
      "text/plain": [
       "False"
      ]
     },
     "execution_count": 89,
     "metadata": {},
     "output_type": "execute_result"
    }
   ],
   "source": [
    "done_error"
   ]
  },
  {
   "cell_type": "code",
   "execution_count": 83,
   "metadata": {},
   "outputs": [
    {
     "data": {
      "text/plain": [
       "False"
      ]
     },
     "execution_count": 83,
     "metadata": {},
     "output_type": "execute_result"
    }
   ],
   "source": [
    "done_time"
   ]
  },
  {
   "cell_type": "markdown",
   "metadata": {},
   "source": [
    "# URLLC offloading case (good channel gain)"
   ]
  },
  {
   "cell_type": "code",
   "execution_count": null,
   "metadata": {},
   "outputs": [],
   "source": [
    "(0, 1), (0,1), (0,1)"
   ]
  },
  {
   "cell_type": "code",
   "execution_count": 5,
   "metadata": {},
   "outputs": [],
   "source": [
    "    mutation = FlipBitMutation(pm=0.1)\n",
    "    selection = TournamentSelection()\n",
    "    crossover = UniformCrossover(pc=0.8, pe=0.5)\n",
    "    indv = BinaryIndividual(ranges=[(0, 1), (0,1), (0,1)], eps=0.001)\n",
    "    population = Population(indv_template=indv, size=50).init()\n",
    "    engine = GAEngine(population=population, selection=selection,\n",
    "                  crossover=crossover, mutation=mutation,\n",
    "                  analysis=[ConsoleOutput])"
   ]
  },
  {
   "cell_type": "code",
   "execution_count": null,
   "metadata": {},
   "outputs": [],
   "source": []
  },
  {
   "cell_type": "code",
   "execution_count": 191,
   "metadata": {},
   "outputs": [],
   "source": [
    "import math"
   ]
  },
  {
   "cell_type": "code",
   "execution_count": null,
   "metadata": {},
   "outputs": [],
   "source": [
    " distance= random.randint(1,200)\n",
    "    path_loss=35.3+37.6*math.log10(distance)+8\n",
    "    LSCG = 10 **-(path_loss/10)\n",
    "    SSCG = np.random.rayleigh()\n",
    "    H = SSCG * LSCG\n",
    "    SNR_u = (H * 0.2* p )/(BW * (10**(-20.4)))\n",
    "    D_rate = (BW * math.log2(1+(H * 0.2* p )/(BW * (10**(-20.4)))))\n",
    "    T_delay = 32*8/D_rate"
   ]
  },
  {
   "cell_type": "code",
   "execution_count": 177,
   "metadata": {},
   "outputs": [
    {
     "data": {
      "text/plain": [
       "5"
      ]
     },
     "execution_count": 177,
     "metadata": {},
     "output_type": "execute_result"
    }
   ],
   "source": [
    "random.randint(1,5)"
   ]
  },
  {
   "cell_type": "code",
   "execution_count": 365,
   "metadata": {},
   "outputs": [
    {
     "name": "stdout",
     "output_type": "stream",
     "text": [
      "0.0001040307115350313\n",
      "False\n",
      "gaft.ConsoleOutput   INFO     Generation number: 100 Population number: 50\n",
      "gaft.ConsoleOutput   INFO     Generation: 1, best fitness: -0.000, scaled fitness: -500.001\n",
      "gaft.ConsoleOutput   INFO     Generation: 2, best fitness: -0.000, scaled fitness: -500.001\n",
      "gaft.ConsoleOutput   INFO     Generation: 3, best fitness: -0.000, scaled fitness: -500.001\n",
      "gaft.ConsoleOutput   INFO     Generation: 4, best fitness: -0.000, scaled fitness: -0.000\n",
      "gaft.ConsoleOutput   INFO     Generation: 5, best fitness: -0.000, scaled fitness: -0.000\n",
      "gaft.ConsoleOutput   INFO     Generation: 6, best fitness: -0.000, scaled fitness: -0.000\n",
      "gaft.ConsoleOutput   INFO     Generation: 7, best fitness: -0.000, scaled fitness: -0.000\n",
      "gaft.ConsoleOutput   INFO     Generation: 8, best fitness: -0.000, scaled fitness: -0.000\n",
      "gaft.ConsoleOutput   INFO     Generation: 9, best fitness: -0.000, scaled fitness: -0.000\n",
      "gaft.ConsoleOutput   INFO     Generation: 10, best fitness: -0.000, scaled fitness: -0.000\n",
      "gaft.ConsoleOutput   INFO     Generation: 11, best fitness: -0.000, scaled fitness: -0.000\n",
      "gaft.ConsoleOutput   INFO     Generation: 12, best fitness: -0.000, scaled fitness: -0.000\n",
      "gaft.ConsoleOutput   INFO     Generation: 13, best fitness: -0.000, scaled fitness: -0.000\n",
      "gaft.ConsoleOutput   INFO     Generation: 14, best fitness: -0.000, scaled fitness: -0.000\n",
      "gaft.ConsoleOutput   INFO     Generation: 15, best fitness: -0.000, scaled fitness: -0.000\n",
      "gaft.ConsoleOutput   INFO     Generation: 16, best fitness: -0.000, scaled fitness: -0.000\n",
      "gaft.ConsoleOutput   INFO     Generation: 17, best fitness: -0.000, scaled fitness: -0.000\n",
      "gaft.ConsoleOutput   INFO     Generation: 18, best fitness: -0.000, scaled fitness: -0.000\n",
      "gaft.ConsoleOutput   INFO     Generation: 19, best fitness: -0.000, scaled fitness: -0.000\n",
      "gaft.ConsoleOutput   INFO     Generation: 20, best fitness: -0.000, scaled fitness: -0.000\n",
      "gaft.ConsoleOutput   INFO     Generation: 21, best fitness: -0.000, scaled fitness: -0.000\n",
      "gaft.ConsoleOutput   INFO     Generation: 22, best fitness: -0.000, scaled fitness: -0.000\n",
      "gaft.ConsoleOutput   INFO     Generation: 23, best fitness: -0.000, scaled fitness: -0.000\n",
      "gaft.ConsoleOutput   INFO     Generation: 24, best fitness: -0.000, scaled fitness: -0.000\n",
      "gaft.ConsoleOutput   INFO     Generation: 25, best fitness: -0.000, scaled fitness: -0.000\n",
      "gaft.ConsoleOutput   INFO     Generation: 26, best fitness: -0.000, scaled fitness: -0.000\n",
      "gaft.ConsoleOutput   INFO     Generation: 27, best fitness: -0.000, scaled fitness: -0.000\n",
      "gaft.ConsoleOutput   INFO     Generation: 28, best fitness: -0.000, scaled fitness: -0.000\n",
      "gaft.ConsoleOutput   INFO     Generation: 29, best fitness: -0.000, scaled fitness: -0.000\n",
      "gaft.ConsoleOutput   INFO     Generation: 30, best fitness: -0.000, scaled fitness: -0.000\n",
      "gaft.ConsoleOutput   INFO     Generation: 31, best fitness: -0.000, scaled fitness: -0.000\n",
      "gaft.ConsoleOutput   INFO     Generation: 32, best fitness: -0.000, scaled fitness: -0.000\n",
      "gaft.ConsoleOutput   INFO     Generation: 33, best fitness: -0.000, scaled fitness: -0.000\n",
      "gaft.ConsoleOutput   INFO     Generation: 34, best fitness: -0.000, scaled fitness: -0.000\n",
      "gaft.ConsoleOutput   INFO     Generation: 35, best fitness: -0.000, scaled fitness: -0.000\n",
      "gaft.ConsoleOutput   INFO     Generation: 36, best fitness: -0.000, scaled fitness: -0.000\n",
      "gaft.ConsoleOutput   INFO     Generation: 37, best fitness: -0.000, scaled fitness: -0.000\n",
      "gaft.ConsoleOutput   INFO     Generation: 38, best fitness: -0.000, scaled fitness: -0.000\n",
      "gaft.ConsoleOutput   INFO     Generation: 39, best fitness: -0.000, scaled fitness: -0.000\n",
      "gaft.ConsoleOutput   INFO     Generation: 40, best fitness: -0.000, scaled fitness: -0.000\n",
      "gaft.ConsoleOutput   INFO     Generation: 41, best fitness: -0.000, scaled fitness: -0.000\n",
      "gaft.ConsoleOutput   INFO     Generation: 42, best fitness: -0.000, scaled fitness: -0.000\n",
      "gaft.ConsoleOutput   INFO     Generation: 43, best fitness: -0.000, scaled fitness: -0.000\n",
      "gaft.ConsoleOutput   INFO     Generation: 44, best fitness: -0.000, scaled fitness: -0.000\n",
      "gaft.ConsoleOutput   INFO     Generation: 45, best fitness: -0.000, scaled fitness: -0.000\n",
      "gaft.ConsoleOutput   INFO     Generation: 46, best fitness: -0.000, scaled fitness: -0.000\n",
      "gaft.ConsoleOutput   INFO     Generation: 47, best fitness: -0.000, scaled fitness: -0.000\n",
      "gaft.ConsoleOutput   INFO     Generation: 48, best fitness: -0.000, scaled fitness: -0.000\n",
      "gaft.ConsoleOutput   INFO     Generation: 49, best fitness: -0.000, scaled fitness: -0.000\n",
      "gaft.ConsoleOutput   INFO     Generation: 50, best fitness: -0.000, scaled fitness: -0.000\n",
      "gaft.ConsoleOutput   INFO     Generation: 51, best fitness: -0.000, scaled fitness: -0.000\n",
      "gaft.ConsoleOutput   INFO     Generation: 52, best fitness: -0.000, scaled fitness: -0.000\n",
      "gaft.ConsoleOutput   INFO     Generation: 53, best fitness: -0.000, scaled fitness: -0.000\n",
      "gaft.ConsoleOutput   INFO     Generation: 54, best fitness: -0.000, scaled fitness: -0.000\n",
      "gaft.ConsoleOutput   INFO     Generation: 55, best fitness: -0.000, scaled fitness: -0.000\n",
      "gaft.ConsoleOutput   INFO     Generation: 56, best fitness: -0.000, scaled fitness: -0.000\n",
      "gaft.ConsoleOutput   INFO     Generation: 57, best fitness: -0.000, scaled fitness: -0.000\n",
      "gaft.ConsoleOutput   INFO     Generation: 58, best fitness: -0.000, scaled fitness: -0.000\n",
      "gaft.ConsoleOutput   INFO     Generation: 59, best fitness: -0.000, scaled fitness: -0.000\n",
      "gaft.ConsoleOutput   INFO     Generation: 60, best fitness: -0.000, scaled fitness: -0.000\n",
      "gaft.ConsoleOutput   INFO     Generation: 61, best fitness: -0.000, scaled fitness: -0.000\n",
      "gaft.ConsoleOutput   INFO     Generation: 62, best fitness: -0.000, scaled fitness: -0.000\n",
      "gaft.ConsoleOutput   INFO     Generation: 63, best fitness: -0.000, scaled fitness: -0.000\n",
      "gaft.ConsoleOutput   INFO     Generation: 64, best fitness: -0.000, scaled fitness: -0.000\n",
      "gaft.ConsoleOutput   INFO     Generation: 65, best fitness: -0.000, scaled fitness: -0.000\n",
      "gaft.ConsoleOutput   INFO     Generation: 66, best fitness: -0.000, scaled fitness: -0.000\n",
      "gaft.ConsoleOutput   INFO     Generation: 67, best fitness: -0.000, scaled fitness: -0.000\n",
      "gaft.ConsoleOutput   INFO     Generation: 68, best fitness: -0.000, scaled fitness: -0.000\n",
      "gaft.ConsoleOutput   INFO     Generation: 69, best fitness: -0.000, scaled fitness: -0.000\n",
      "gaft.ConsoleOutput   INFO     Generation: 70, best fitness: -0.000, scaled fitness: -0.000\n",
      "gaft.ConsoleOutput   INFO     Generation: 71, best fitness: -0.000, scaled fitness: -0.000\n",
      "gaft.ConsoleOutput   INFO     Generation: 72, best fitness: -0.000, scaled fitness: -0.000\n",
      "gaft.ConsoleOutput   INFO     Generation: 73, best fitness: -0.000, scaled fitness: -0.000\n",
      "gaft.ConsoleOutput   INFO     Generation: 74, best fitness: -0.000, scaled fitness: -0.000\n",
      "gaft.ConsoleOutput   INFO     Generation: 75, best fitness: -0.000, scaled fitness: -0.000\n",
      "gaft.ConsoleOutput   INFO     Generation: 76, best fitness: -0.000, scaled fitness: -0.000\n",
      "gaft.ConsoleOutput   INFO     Generation: 77, best fitness: -0.000, scaled fitness: -0.000\n",
      "gaft.ConsoleOutput   INFO     Generation: 78, best fitness: -0.000, scaled fitness: -0.000\n",
      "gaft.ConsoleOutput   INFO     Generation: 79, best fitness: -0.000, scaled fitness: -0.000\n",
      "gaft.ConsoleOutput   INFO     Generation: 80, best fitness: -0.000, scaled fitness: -0.000\n",
      "gaft.ConsoleOutput   INFO     Generation: 81, best fitness: -0.000, scaled fitness: -0.000\n",
      "gaft.ConsoleOutput   INFO     Generation: 82, best fitness: -0.000, scaled fitness: -0.000\n",
      "gaft.ConsoleOutput   INFO     Generation: 83, best fitness: -0.000, scaled fitness: -0.000\n",
      "gaft.ConsoleOutput   INFO     Generation: 84, best fitness: -0.000, scaled fitness: -0.000\n",
      "gaft.ConsoleOutput   INFO     Generation: 85, best fitness: -0.000, scaled fitness: -0.000\n",
      "gaft.ConsoleOutput   INFO     Generation: 86, best fitness: -0.000, scaled fitness: -0.000\n",
      "gaft.ConsoleOutput   INFO     Generation: 87, best fitness: -0.000, scaled fitness: -0.000\n",
      "gaft.ConsoleOutput   INFO     Generation: 88, best fitness: -0.000, scaled fitness: -0.000\n",
      "gaft.ConsoleOutput   INFO     Generation: 89, best fitness: -0.000, scaled fitness: -0.000\n"
     ]
    },
    {
     "name": "stdout",
     "output_type": "stream",
     "text": [
      "gaft.ConsoleOutput   INFO     Generation: 90, best fitness: -0.000, scaled fitness: -0.000\n",
      "gaft.ConsoleOutput   INFO     Generation: 91, best fitness: -0.000, scaled fitness: -0.000\n",
      "gaft.ConsoleOutput   INFO     Generation: 92, best fitness: -0.000, scaled fitness: -0.000\n",
      "gaft.ConsoleOutput   INFO     Generation: 93, best fitness: -0.000, scaled fitness: -0.000\n",
      "gaft.ConsoleOutput   INFO     Generation: 94, best fitness: -0.000, scaled fitness: -0.000\n",
      "gaft.ConsoleOutput   INFO     Generation: 95, best fitness: -0.000, scaled fitness: -0.000\n",
      "gaft.ConsoleOutput   INFO     Generation: 96, best fitness: -0.000, scaled fitness: -0.000\n",
      "gaft.ConsoleOutput   INFO     Generation: 97, best fitness: -0.000, scaled fitness: -0.000\n",
      "gaft.ConsoleOutput   INFO     Generation: 98, best fitness: -0.000, scaled fitness: -0.000\n",
      "gaft.ConsoleOutput   INFO     Generation: 99, best fitness: -0.000, scaled fitness: -0.000\n",
      "gaft.ConsoleOutput   INFO     Generation: 100, best fitness: -0.000, scaled fitness: -0.000\n",
      "gaft.ConsoleOutput   INFO     Optimal solution: ([0.015625, 0.0, 0.572265625], -4.0283718751649995e-05)\n"
     ]
    }
   ],
   "source": [
    "distance = random.randint(1,200)\n",
    "path_loss = 35.3 \n",
    "path_loss=35.3+37.6*math.log10(distance)+8\n",
    "LSCG = 10 **-(path_loss/10)\n",
    "SSCG = np.random.rayleigh()\n",
    "H = SSCG * LSCG\n",
    "BW = 180000 * 3   # random.randint(1,2)\n",
    "\n",
    "D_rate_max = (BW * math.log2(1+(H * 0.2 )/(BW * (10**(-20.4)))))\n",
    "\n",
    "T_delay_max = (32*8)/(D_rate_max)\n",
    "done_done = False\n",
    "if T_delay_max > 0.000125:\n",
    "    done_done = True\n",
    "    \n",
    "print(T_delay_max)\n",
    "print(done_done)\n",
    "@engine.fitness_register\n",
    "@engine.minimize\n",
    "def fitness(indv): ###########피트니스 함수를 조건부로 새로짜야함\n",
    "    \n",
    "    global done_time\n",
    "    done_time = False\n",
    "    global done_error\n",
    "    done_error = False\n",
    "    global done_t_delay\n",
    "    done_t_delay = False\n",
    "    \n",
    "    \n",
    "    f,o,p = indv.solution\n",
    "    e = 10**-7\n",
    "    f=f+e\n",
    "    o=o+e\n",
    "    p=p+e\n",
    "    \n",
    "    SNR_u = (H * 0.2* p )/(BW * (10**(-20.4)))\n",
    "    D_rate = (BW * math.log2(1+(H * 0.2* p )/(BW * (10**(-20.4)))))\n",
    "    global T_delay\n",
    "    T_delay = 32*8/D_rate\n",
    "\n",
    "    pen = 0\n",
    "    q = 0.1 * o\n",
    "    \n",
    "    D = math.ceil((330*32)/(125000*(f)))\n",
    "    \n",
    "    roh = q*D    \n",
    "    \n",
    "    ii = math.ceil(8-D)\n",
    "    jj = math.floor(ii/D)\n",
    "    SIGMA = 0\n",
    "    error_u = 0\n",
    "        \n",
    "    for k in range(jj + 1):\n",
    "        SIGMA = SIGMA + ((q * ((1 - q) ** (D - 1))) ** k) * ((-1) ** k) * math.comb(ii + k - k * D, k)\n",
    "        error_u = 1 - ((1 - q) ** (-ii - 1)) * (1 - roh) * SIGMA  # find error\n",
    "    \n",
    "    if T_delay > 0.000125:   \n",
    "        pen =  500 + 100*(T_delay - 0.000125)\n",
    "        done_t_delay =True\n",
    "    if D > 8:                    ## 1ms 조건은 만족\n",
    "        pen = 500+100*(D - 8) \n",
    "        done_time = True\n",
    "        \n",
    "    if error_u > 10**-7:        ## 로컬 큐잉\n",
    "        pen = 500+ 100*(error_u - 10**-7)\n",
    "        done_error = True\n",
    "        \n",
    "        \n",
    "    return (10**(-15))*((125000*f)**2)*o*(330*32) +  (1-o)*p*T_delay  +pen\n",
    "\n",
    "\n",
    "engine.run(ng=100)\n",
    "best_indv = engine.population.best_indv(engine.fitness)\n",
    "f = best_indv.solution[0]\n",
    "o = best_indv.solution[1]\n",
    "p = best_indv.solution[2]\n",
    "Off_bit = (1-o)*32*8\n",
    "T_d = 0\n",
    "done = done_time or done_error or done_t_delay\n",
    "\n",
    "EE = (10**(-15))*((125000*(f))**2)*o*(330*32) +  (1-o)*p*T_delay    \n",
    "\n",
    "#리턴 Off_task, T_d, EE, data_rate, BW, done 등"
   ]
  },
  {
   "cell_type": "code",
   "execution_count": 366,
   "metadata": {},
   "outputs": [
    {
     "data": {
      "text/plain": [
       "7.145183457446852e-05"
      ]
     },
     "execution_count": 366,
     "metadata": {},
     "output_type": "execute_result"
    }
   ],
   "source": [
    "EE"
   ]
  },
  {
   "cell_type": "code",
   "execution_count": 367,
   "metadata": {},
   "outputs": [
    {
     "data": {
      "text/plain": [
       "0.015625"
      ]
     },
     "execution_count": 367,
     "metadata": {},
     "output_type": "execute_result"
    }
   ],
   "source": [
    "f"
   ]
  },
  {
   "cell_type": "code",
   "execution_count": 368,
   "metadata": {},
   "outputs": [
    {
     "data": {
      "text/plain": [
       "0.0"
      ]
     },
     "execution_count": 368,
     "metadata": {},
     "output_type": "execute_result"
    }
   ],
   "source": [
    "o"
   ]
  },
  {
   "cell_type": "code",
   "execution_count": 369,
   "metadata": {},
   "outputs": [
    {
     "data": {
      "text/plain": [
       "0.572265625"
      ]
     },
     "execution_count": 369,
     "metadata": {},
     "output_type": "execute_result"
    }
   ],
   "source": [
    "p"
   ]
  },
  {
   "cell_type": "code",
   "execution_count": 370,
   "metadata": {},
   "outputs": [
    {
     "name": "stdout",
     "output_type": "stream",
     "text": [
      "False\n",
      "False\n",
      "False\n"
     ]
    }
   ],
   "source": [
    "print(done_t_delay)\n",
    "print(done_time)\n",
    "print(done_error)\n"
   ]
  },
  {
   "cell_type": "code",
   "execution_count": 364,
   "metadata": {},
   "outputs": [
    {
     "data": {
      "text/plain": [
       "False"
      ]
     },
     "execution_count": 364,
     "metadata": {},
     "output_type": "execute_result"
    }
   ],
   "source": [
    "done_done"
   ]
  },
  {
   "cell_type": "code",
   "execution_count": 385,
   "metadata": {},
   "outputs": [],
   "source": [
    "K = np.random.poisson(0.1,100)"
   ]
  },
  {
   "cell_type": "code",
   "execution_count": 386,
   "metadata": {},
   "outputs": [
    {
     "data": {
      "text/plain": [
       "8"
      ]
     },
     "execution_count": 386,
     "metadata": {},
     "output_type": "execute_result"
    }
   ],
   "source": [
    "np.sum(K, axis=0)"
   ]
  },
  {
   "cell_type": "code",
   "execution_count": 387,
   "metadata": {},
   "outputs": [
    {
     "data": {
      "text/plain": [
       "array([0, 1, 0, 0, 0, 0, 0, 0, 0, 0, 0, 0, 0, 0, 0, 0, 0, 0, 1, 0, 0, 0,\n",
       "       0, 0, 0, 0, 0, 0, 0, 0, 0, 0, 0, 0, 0, 0, 1, 0, 0, 0, 0, 0, 0, 0,\n",
       "       0, 0, 1, 0, 0, 0, 0, 0, 0, 0, 0, 0, 0, 0, 0, 1, 0, 0, 0, 0, 0, 0,\n",
       "       1, 1, 0, 0, 0, 0, 0, 0, 0, 0, 0, 0, 0, 0, 0, 0, 0, 0, 0, 0, 0, 0,\n",
       "       0, 0, 0, 0, 0, 1, 0, 0, 0, 0, 0, 0])"
      ]
     },
     "execution_count": 387,
     "metadata": {},
     "output_type": "execute_result"
    }
   ],
   "source": [
    "K\n"
   ]
  },
  {
   "cell_type": "markdown",
   "metadata": {},
   "source": [
    "# 갑자기 궁금해서 Energy efficiency로 해봄\n"
   ]
  },
  {
   "cell_type": "code",
   "execution_count": 395,
   "metadata": {},
   "outputs": [
    {
     "name": "stdout",
     "output_type": "stream",
     "text": [
      "9.115516571043924e-05\n",
      "False\n",
      "gaft.ConsoleOutput   INFO     Generation number: 300 Population number: 50\n",
      "gaft.ConsoleOutput   INFO     Generation: 1, best fitness: -0.003, scaled fitness: 25619377276308.293\n",
      "gaft.ConsoleOutput   INFO     Generation: 2, best fitness: -0.001, scaled fitness: 25619377276308.293\n",
      "gaft.ConsoleOutput   INFO     Generation: 3, best fitness: -0.011, scaled fitness: 25619377276308.293\n",
      "gaft.ConsoleOutput   INFO     Generation: 4, best fitness: -0.003, scaled fitness: 25619377276308.293\n",
      "gaft.ConsoleOutput   INFO     Generation: 5, best fitness: -0.001, scaled fitness: 25619377276308.293\n",
      "gaft.ConsoleOutput   INFO     Generation: 6, best fitness: -0.003, scaled fitness: 25619377276308.293\n",
      "gaft.ConsoleOutput   INFO     Generation: 7, best fitness: -0.003, scaled fitness: 25619377276308.293\n",
      "gaft.ConsoleOutput   INFO     Generation: 8, best fitness: -0.003, scaled fitness: 25619377276308.293\n",
      "gaft.ConsoleOutput   INFO     Generation: 9, best fitness: -23.269, scaled fitness: 25619377276308.293\n",
      "gaft.ConsoleOutput   INFO     Generation: 10, best fitness: -0.010, scaled fitness: 25619377276308.293\n",
      "gaft.ConsoleOutput   INFO     Generation: 11, best fitness: -5.001, scaled fitness: 25619377276308.293\n",
      "gaft.ConsoleOutput   INFO     Generation: 12, best fitness: -0.003, scaled fitness: 25619377276308.293\n",
      "gaft.ConsoleOutput   INFO     Generation: 13, best fitness: -84479305.000, scaled fitness: 25619377276308.293\n",
      "gaft.ConsoleOutput   INFO     Generation: 14, best fitness: -0.041, scaled fitness: 25619377276308.293\n",
      "gaft.ConsoleOutput   INFO     Generation: 15, best fitness: -0.041, scaled fitness: 25619377276308.293\n",
      "gaft.ConsoleOutput   INFO     Generation: 16, best fitness: -0.041, scaled fitness: 25619377276308.293\n",
      "gaft.ConsoleOutput   INFO     Generation: 17, best fitness: -0.003, scaled fitness: 25619377276308.293\n",
      "gaft.ConsoleOutput   INFO     Generation: 18, best fitness: -305.000, scaled fitness: 25619377276308.293\n",
      "gaft.ConsoleOutput   INFO     Generation: 19, best fitness: -0.058, scaled fitness: 25619377276308.293\n",
      "gaft.ConsoleOutput   INFO     Generation: 20, best fitness: -0.001, scaled fitness: 25619377276308.293\n",
      "gaft.ConsoleOutput   INFO     Generation: 21, best fitness: -0.003, scaled fitness: 25619377276308.293\n",
      "gaft.ConsoleOutput   INFO     Generation: 22, best fitness: -0.000, scaled fitness: 25619377276308.293\n",
      "gaft.ConsoleOutput   INFO     Generation: 23, best fitness: -5.001, scaled fitness: 25619377276308.293\n",
      "gaft.ConsoleOutput   INFO     Generation: 24, best fitness: -0.052, scaled fitness: 25619377276308.293\n",
      "gaft.ConsoleOutput   INFO     Generation: 25, best fitness: -105.000, scaled fitness: 25619377276308.293\n",
      "gaft.ConsoleOutput   INFO     Generation: 26, best fitness: -0.003, scaled fitness: 25619377276308.293\n",
      "gaft.ConsoleOutput   INFO     Generation: 27, best fitness: -0.004, scaled fitness: 25619377276308.293\n",
      "gaft.ConsoleOutput   INFO     Generation: 28, best fitness: -0.001, scaled fitness: 25619377276308.293\n",
      "gaft.ConsoleOutput   INFO     Generation: 29, best fitness: -0.024, scaled fitness: 25619377276308.293\n",
      "gaft.ConsoleOutput   INFO     Generation: 30, best fitness: -0.003, scaled fitness: 25619377276308.293\n",
      "gaft.ConsoleOutput   INFO     Generation: 31, best fitness: -0.003, scaled fitness: 25619377276308.293\n",
      "gaft.ConsoleOutput   INFO     Generation: 32, best fitness: -0.013, scaled fitness: 25619377276308.293\n",
      "gaft.ConsoleOutput   INFO     Generation: 33, best fitness: -0.025, scaled fitness: 25619377276308.293\n",
      "gaft.ConsoleOutput   INFO     Generation: 34, best fitness: -0.010, scaled fitness: 25619377276308.293\n",
      "gaft.ConsoleOutput   INFO     Generation: 35, best fitness: -0.054, scaled fitness: 25619377276308.293\n",
      "gaft.ConsoleOutput   INFO     Generation: 36, best fitness: -0.001, scaled fitness: 25619377276308.293\n",
      "gaft.ConsoleOutput   INFO     Generation: 37, best fitness: -0.024, scaled fitness: 25619377276308.293\n",
      "gaft.ConsoleOutput   INFO     Generation: 38, best fitness: -0.003, scaled fitness: 25619377276308.293\n",
      "gaft.ConsoleOutput   INFO     Generation: 39, best fitness: -0.003, scaled fitness: 25619377276308.293\n",
      "gaft.ConsoleOutput   INFO     Generation: 40, best fitness: -0.003, scaled fitness: 25619377276308.293\n",
      "gaft.ConsoleOutput   INFO     Generation: 41, best fitness: -0.001, scaled fitness: 25619377276308.293\n",
      "gaft.ConsoleOutput   INFO     Generation: 42, best fitness: -12.527, scaled fitness: 25619377276308.293\n",
      "gaft.ConsoleOutput   INFO     Generation: 43, best fitness: -0.010, scaled fitness: 25619377276308.293\n",
      "gaft.ConsoleOutput   INFO     Generation: 44, best fitness: -0.001, scaled fitness: 25619377276308.293\n",
      "gaft.ConsoleOutput   INFO     Generation: 45, best fitness: -0.010, scaled fitness: 25619377276308.293\n",
      "gaft.ConsoleOutput   INFO     Generation: 46, best fitness: -0.041, scaled fitness: 25619377276308.293\n",
      "gaft.ConsoleOutput   INFO     Generation: 47, best fitness: -0.003, scaled fitness: 25619377276308.293\n",
      "gaft.ConsoleOutput   INFO     Generation: 48, best fitness: -0.013, scaled fitness: 25619377276308.293\n",
      "gaft.ConsoleOutput   INFO     Generation: 49, best fitness: -5.095, scaled fitness: 25619377276308.293\n",
      "gaft.ConsoleOutput   INFO     Generation: 50, best fitness: -0.000, scaled fitness: 25619377276308.293\n",
      "gaft.ConsoleOutput   INFO     Generation: 51, best fitness: -50.005, scaled fitness: 25619377276308.293\n",
      "gaft.ConsoleOutput   INFO     Generation: 52, best fitness: -0.001, scaled fitness: 25619377276308.293\n",
      "gaft.ConsoleOutput   INFO     Generation: 53, best fitness: -0.042, scaled fitness: 25619377276308.293\n",
      "gaft.ConsoleOutput   INFO     Generation: 54, best fitness: -84479305.000, scaled fitness: 25619377276308.293\n",
      "gaft.ConsoleOutput   INFO     Generation: 55, best fitness: -0.001, scaled fitness: 25619377276308.293\n",
      "gaft.ConsoleOutput   INFO     Generation: 56, best fitness: -0.001, scaled fitness: 25619377276308.293\n",
      "gaft.ConsoleOutput   INFO     Generation: 57, best fitness: -0.001, scaled fitness: 25619377276308.293\n",
      "gaft.ConsoleOutput   INFO     Generation: 58, best fitness: -0.001, scaled fitness: 25619377276308.293\n",
      "gaft.ConsoleOutput   INFO     Generation: 59, best fitness: -0.094, scaled fitness: 25619377276308.293\n",
      "gaft.ConsoleOutput   INFO     Generation: 60, best fitness: -0.010, scaled fitness: 25619377276308.293\n",
      "gaft.ConsoleOutput   INFO     Generation: 61, best fitness: -0.003, scaled fitness: 25619377276308.293\n",
      "gaft.ConsoleOutput   INFO     Generation: 62, best fitness: -0.044, scaled fitness: 25619377276308.293\n",
      "gaft.ConsoleOutput   INFO     Generation: 63, best fitness: -0.003, scaled fitness: 25619377276308.293\n",
      "gaft.ConsoleOutput   INFO     Generation: 64, best fitness: -0.003, scaled fitness: 25619377276308.293\n",
      "gaft.ConsoleOutput   INFO     Generation: 65, best fitness: -5.001, scaled fitness: 25619377276308.293\n",
      "gaft.ConsoleOutput   INFO     Generation: 66, best fitness: -0.011, scaled fitness: 25619377276308.293\n",
      "gaft.ConsoleOutput   INFO     Generation: 67, best fitness: -0.001, scaled fitness: 25619377276308.293\n",
      "gaft.ConsoleOutput   INFO     Generation: 68, best fitness: -0.003, scaled fitness: 25619377276308.293\n",
      "gaft.ConsoleOutput   INFO     Generation: 69, best fitness: -0.010, scaled fitness: 25619377276308.293\n",
      "gaft.ConsoleOutput   INFO     Generation: 70, best fitness: -0.067, scaled fitness: 25619377276308.293\n",
      "gaft.ConsoleOutput   INFO     Generation: 71, best fitness: -0.013, scaled fitness: 25619377276308.293\n",
      "gaft.ConsoleOutput   INFO     Generation: 72, best fitness: -0.003, scaled fitness: 25619377276308.293\n",
      "gaft.ConsoleOutput   INFO     Generation: 73, best fitness: -0.001, scaled fitness: 25619377276308.293\n",
      "gaft.ConsoleOutput   INFO     Generation: 74, best fitness: -0.003, scaled fitness: 25619377276308.293\n",
      "gaft.ConsoleOutput   INFO     Generation: 75, best fitness: -0.003, scaled fitness: 25619377276308.293\n",
      "gaft.ConsoleOutput   INFO     Generation: 76, best fitness: -0.004, scaled fitness: 25619377276308.293\n",
      "gaft.ConsoleOutput   INFO     Generation: 77, best fitness: -5.194, scaled fitness: 25619377276308.293\n",
      "gaft.ConsoleOutput   INFO     Generation: 78, best fitness: -0.010, scaled fitness: 25619377276308.293\n",
      "gaft.ConsoleOutput   INFO     Generation: 79, best fitness: -0.012, scaled fitness: 25619377276308.293\n"
     ]
    },
    {
     "name": "stdout",
     "output_type": "stream",
     "text": [
      "gaft.ConsoleOutput   INFO     Generation: 80, best fitness: -0.001, scaled fitness: 25619377276308.293\n",
      "gaft.ConsoleOutput   INFO     Generation: 81, best fitness: -0.003, scaled fitness: 25619377276308.293\n",
      "gaft.ConsoleOutput   INFO     Generation: 82, best fitness: -0.003, scaled fitness: 25619377276308.293\n",
      "gaft.ConsoleOutput   INFO     Generation: 83, best fitness: -0.004, scaled fitness: 25619377276308.293\n",
      "gaft.ConsoleOutput   INFO     Generation: 84, best fitness: -50.005, scaled fitness: 25619377276308.293\n",
      "gaft.ConsoleOutput   INFO     Generation: 85, best fitness: -0.001, scaled fitness: 25619377276308.293\n",
      "gaft.ConsoleOutput   INFO     Generation: 86, best fitness: -0.054, scaled fitness: 25619377276308.293\n",
      "gaft.ConsoleOutput   INFO     Generation: 87, best fitness: -0.010, scaled fitness: 25619377276308.293\n",
      "gaft.ConsoleOutput   INFO     Generation: 88, best fitness: -0.010, scaled fitness: 25619377276308.293\n",
      "gaft.ConsoleOutput   INFO     Generation: 89, best fitness: -0.010, scaled fitness: 25619377276308.293\n",
      "gaft.ConsoleOutput   INFO     Generation: 90, best fitness: -5.001, scaled fitness: 25619377276308.293\n",
      "gaft.ConsoleOutput   INFO     Generation: 91, best fitness: -0.010, scaled fitness: 25619377276308.293\n",
      "gaft.ConsoleOutput   INFO     Generation: 92, best fitness: -0.003, scaled fitness: 25619377276308.293\n",
      "gaft.ConsoleOutput   INFO     Generation: 93, best fitness: -0.065, scaled fitness: 25619377276308.293\n",
      "gaft.ConsoleOutput   INFO     Generation: 94, best fitness: -0.003, scaled fitness: 25619377276308.293\n",
      "gaft.ConsoleOutput   INFO     Generation: 95, best fitness: -0.003, scaled fitness: 25619377276308.293\n",
      "gaft.ConsoleOutput   INFO     Generation: 96, best fitness: -0.002, scaled fitness: 25619377276308.293\n",
      "gaft.ConsoleOutput   INFO     Generation: 97, best fitness: -0.042, scaled fitness: 25619377276308.293\n",
      "gaft.ConsoleOutput   INFO     Generation: 98, best fitness: -23.269, scaled fitness: 25619377276308.293\n",
      "gaft.ConsoleOutput   INFO     Generation: 99, best fitness: -1405.000, scaled fitness: 25619377276308.293\n",
      "gaft.ConsoleOutput   INFO     Generation: 100, best fitness: -0.041, scaled fitness: 25619377276308.293\n",
      "gaft.ConsoleOutput   INFO     Generation: 101, best fitness: -0.058, scaled fitness: 25619377276308.293\n",
      "gaft.ConsoleOutput   INFO     Generation: 102, best fitness: -0.001, scaled fitness: 25619377276308.293\n",
      "gaft.ConsoleOutput   INFO     Generation: 103, best fitness: -0.001, scaled fitness: 25619377276308.293\n",
      "gaft.ConsoleOutput   INFO     Generation: 104, best fitness: -0.001, scaled fitness: 25619377276308.293\n",
      "gaft.ConsoleOutput   INFO     Generation: 105, best fitness: -0.002, scaled fitness: 25619377276308.293\n",
      "gaft.ConsoleOutput   INFO     Generation: 106, best fitness: -0.001, scaled fitness: 25619377276308.293\n",
      "gaft.ConsoleOutput   INFO     Generation: 107, best fitness: -84479305.000, scaled fitness: 25619377276308.293\n",
      "gaft.ConsoleOutput   INFO     Generation: 108, best fitness: -0.003, scaled fitness: 25619377276308.293\n",
      "gaft.ConsoleOutput   INFO     Generation: 109, best fitness: -0.010, scaled fitness: 25619377276308.293\n",
      "gaft.ConsoleOutput   INFO     Generation: 110, best fitness: -0.109, scaled fitness: 25619377276308.293\n",
      "gaft.ConsoleOutput   INFO     Generation: 111, best fitness: -0.041, scaled fitness: 25619377276308.293\n",
      "gaft.ConsoleOutput   INFO     Generation: 112, best fitness: -0.003, scaled fitness: 25619377276308.293\n",
      "gaft.ConsoleOutput   INFO     Generation: 113, best fitness: -0.001, scaled fitness: 25619377276308.293\n",
      "gaft.ConsoleOutput   INFO     Generation: 114, best fitness: -0.041, scaled fitness: 25619377276308.293\n",
      "gaft.ConsoleOutput   INFO     Generation: 115, best fitness: -50.005, scaled fitness: 25619377276308.293\n",
      "gaft.ConsoleOutput   INFO     Generation: 116, best fitness: -0.001, scaled fitness: 25619377276308.293\n",
      "gaft.ConsoleOutput   INFO     Generation: 117, best fitness: -0.010, scaled fitness: 25619377276308.293\n",
      "gaft.ConsoleOutput   INFO     Generation: 118, best fitness: -0.064, scaled fitness: 25619377276308.293\n",
      "gaft.ConsoleOutput   INFO     Generation: 119, best fitness: -0.010, scaled fitness: 25619377276308.293\n",
      "gaft.ConsoleOutput   INFO     Generation: 120, best fitness: -5.001, scaled fitness: 25619377276308.293\n",
      "gaft.ConsoleOutput   INFO     Generation: 121, best fitness: -0.003, scaled fitness: 25619377276308.293\n",
      "gaft.ConsoleOutput   INFO     Generation: 122, best fitness: -0.010, scaled fitness: 25619377276308.293\n",
      "gaft.ConsoleOutput   INFO     Generation: 123, best fitness: -0.003, scaled fitness: 25619377276308.293\n",
      "gaft.ConsoleOutput   INFO     Generation: 124, best fitness: -0.004, scaled fitness: 25619377276308.293\n",
      "gaft.ConsoleOutput   INFO     Generation: 125, best fitness: -0.010, scaled fitness: 25619377276308.293\n",
      "gaft.ConsoleOutput   INFO     Generation: 126, best fitness: -0.041, scaled fitness: 25619377276308.293\n",
      "gaft.ConsoleOutput   INFO     Generation: 127, best fitness: -0.010, scaled fitness: 25619377276308.293\n",
      "gaft.ConsoleOutput   INFO     Generation: 128, best fitness: -0.003, scaled fitness: 25619377276308.293\n",
      "gaft.ConsoleOutput   INFO     Generation: 129, best fitness: -0.001, scaled fitness: 25619377276308.293\n",
      "gaft.ConsoleOutput   INFO     Generation: 130, best fitness: -0.010, scaled fitness: 25619377276308.293\n",
      "gaft.ConsoleOutput   INFO     Generation: 131, best fitness: -5.000, scaled fitness: 25619377276308.293\n",
      "gaft.ConsoleOutput   INFO     Generation: 132, best fitness: -0.001, scaled fitness: 25619377276308.293\n",
      "gaft.ConsoleOutput   INFO     Generation: 133, best fitness: -0.010, scaled fitness: 25619377276308.293\n",
      "gaft.ConsoleOutput   INFO     Generation: 134, best fitness: -0.010, scaled fitness: 25619377276308.293\n",
      "gaft.ConsoleOutput   INFO     Generation: 135, best fitness: -0.017, scaled fitness: 25619377276308.293\n",
      "gaft.ConsoleOutput   INFO     Generation: 136, best fitness: -0.001, scaled fitness: 25619377276308.293\n",
      "gaft.ConsoleOutput   INFO     Generation: 137, best fitness: -0.023, scaled fitness: 25619377276308.293\n",
      "gaft.ConsoleOutput   INFO     Generation: 138, best fitness: -0.003, scaled fitness: 25619377276308.293\n",
      "gaft.ConsoleOutput   INFO     Generation: 139, best fitness: -42.369, scaled fitness: 25619377276308.293\n",
      "gaft.ConsoleOutput   INFO     Generation: 140, best fitness: -0.008, scaled fitness: 25619377276308.293\n",
      "gaft.ConsoleOutput   INFO     Generation: 141, best fitness: -84479305.000, scaled fitness: 25619377276308.293\n",
      "gaft.ConsoleOutput   INFO     Generation: 142, best fitness: -0.010, scaled fitness: 25619377276308.293\n",
      "gaft.ConsoleOutput   INFO     Generation: 143, best fitness: -0.003, scaled fitness: 25619377276308.293\n",
      "gaft.ConsoleOutput   INFO     Generation: 144, best fitness: -84479305.000, scaled fitness: 25619377276308.293\n",
      "gaft.ConsoleOutput   INFO     Generation: 145, best fitness: -5.001, scaled fitness: 25619377276308.293\n",
      "gaft.ConsoleOutput   INFO     Generation: 146, best fitness: -0.001, scaled fitness: 25619377276308.293\n",
      "gaft.ConsoleOutput   INFO     Generation: 147, best fitness: -5.001, scaled fitness: 25619377276308.293\n",
      "gaft.ConsoleOutput   INFO     Generation: 148, best fitness: -5.001, scaled fitness: 25619377276308.293\n",
      "gaft.ConsoleOutput   INFO     Generation: 149, best fitness: -0.003, scaled fitness: 25619377276308.293\n",
      "gaft.ConsoleOutput   INFO     Generation: 150, best fitness: -0.023, scaled fitness: 25619377276308.293\n",
      "gaft.ConsoleOutput   INFO     Generation: 151, best fitness: -84479305.000, scaled fitness: 25619377276308.293\n",
      "gaft.ConsoleOutput   INFO     Generation: 152, best fitness: -0.001, scaled fitness: 25619377276308.293\n",
      "gaft.ConsoleOutput   INFO     Generation: 153, best fitness: -0.003, scaled fitness: 25619377276308.293\n",
      "gaft.ConsoleOutput   INFO     Generation: 154, best fitness: -0.003, scaled fitness: 25619377276308.293\n",
      "gaft.ConsoleOutput   INFO     Generation: 155, best fitness: -5.288, scaled fitness: 25619377276308.293\n",
      "gaft.ConsoleOutput   INFO     Generation: 156, best fitness: -0.041, scaled fitness: 25619377276308.293\n",
      "gaft.ConsoleOutput   INFO     Generation: 157, best fitness: -84479305.000, scaled fitness: 25619377276308.293\n",
      "gaft.ConsoleOutput   INFO     Generation: 158, best fitness: -46.100, scaled fitness: 25619377276308.293\n"
     ]
    },
    {
     "name": "stdout",
     "output_type": "stream",
     "text": [
      "gaft.ConsoleOutput   INFO     Generation: 159, best fitness: -0.011, scaled fitness: 25619377276308.293\n",
      "gaft.ConsoleOutput   INFO     Generation: 160, best fitness: -5.288, scaled fitness: 25619377276308.293\n",
      "gaft.ConsoleOutput   INFO     Generation: 161, best fitness: -84479305.000, scaled fitness: 25619377276308.293\n",
      "gaft.ConsoleOutput   INFO     Generation: 162, best fitness: -0.004, scaled fitness: 25619377276308.293\n",
      "gaft.ConsoleOutput   INFO     Generation: 163, best fitness: -0.017, scaled fitness: 25619377276308.293\n",
      "gaft.ConsoleOutput   INFO     Generation: 164, best fitness: -0.003, scaled fitness: 25619377276308.293\n",
      "gaft.ConsoleOutput   INFO     Generation: 165, best fitness: -0.013, scaled fitness: 25619377276308.293\n",
      "gaft.ConsoleOutput   INFO     Generation: 166, best fitness: -0.003, scaled fitness: 25619377276308.293\n",
      "gaft.ConsoleOutput   INFO     Generation: 167, best fitness: -0.001, scaled fitness: 25619377276308.293\n",
      "gaft.ConsoleOutput   INFO     Generation: 168, best fitness: -0.003, scaled fitness: 25619377276308.293\n",
      "gaft.ConsoleOutput   INFO     Generation: 169, best fitness: -0.001, scaled fitness: 25619377276308.293\n",
      "gaft.ConsoleOutput   INFO     Generation: 170, best fitness: -0.006, scaled fitness: 25619377276308.293\n",
      "gaft.ConsoleOutput   INFO     Generation: 171, best fitness: -0.003, scaled fitness: 25619377276308.293\n",
      "gaft.ConsoleOutput   INFO     Generation: 172, best fitness: -0.003, scaled fitness: 25619377276308.293\n",
      "gaft.ConsoleOutput   INFO     Generation: 173, best fitness: -0.010, scaled fitness: 25619377276308.293\n",
      "gaft.ConsoleOutput   INFO     Generation: 174, best fitness: -0.044, scaled fitness: 25619377276308.293\n",
      "gaft.ConsoleOutput   INFO     Generation: 175, best fitness: -5.288, scaled fitness: 25619377276308.293\n",
      "gaft.ConsoleOutput   INFO     Generation: 176, best fitness: -0.010, scaled fitness: 25619377276308.293\n",
      "gaft.ConsoleOutput   INFO     Generation: 177, best fitness: -0.010, scaled fitness: 25619377276308.293\n",
      "gaft.ConsoleOutput   INFO     Generation: 178, best fitness: -0.052, scaled fitness: 25619377276308.293\n",
      "gaft.ConsoleOutput   INFO     Generation: 179, best fitness: -0.003, scaled fitness: 25619377276308.293\n",
      "gaft.ConsoleOutput   INFO     Generation: 180, best fitness: -48.520, scaled fitness: 25619377276308.293\n",
      "gaft.ConsoleOutput   INFO     Generation: 181, best fitness: -0.003, scaled fitness: 25619377276308.293\n",
      "gaft.ConsoleOutput   INFO     Generation: 182, best fitness: -0.010, scaled fitness: 25619377276308.293\n",
      "gaft.ConsoleOutput   INFO     Generation: 183, best fitness: -0.010, scaled fitness: 25619377276308.293\n",
      "gaft.ConsoleOutput   INFO     Generation: 184, best fitness: -0.003, scaled fitness: 25619377276308.293\n",
      "gaft.ConsoleOutput   INFO     Generation: 185, best fitness: -0.023, scaled fitness: 25619377276308.293\n",
      "gaft.ConsoleOutput   INFO     Generation: 186, best fitness: -0.011, scaled fitness: 25619377276308.293\n",
      "gaft.ConsoleOutput   INFO     Generation: 187, best fitness: -0.001, scaled fitness: 25619377276308.293\n",
      "gaft.ConsoleOutput   INFO     Generation: 188, best fitness: -0.006, scaled fitness: 25619377276308.293\n",
      "gaft.ConsoleOutput   INFO     Generation: 189, best fitness: -3605.000, scaled fitness: 25619377276308.293\n",
      "gaft.ConsoleOutput   INFO     Generation: 190, best fitness: -0.049, scaled fitness: 25619377276308.293\n",
      "gaft.ConsoleOutput   INFO     Generation: 191, best fitness: -0.003, scaled fitness: 25619377276308.293\n",
      "gaft.ConsoleOutput   INFO     Generation: 192, best fitness: -3605.000, scaled fitness: 25619377276308.293\n",
      "gaft.ConsoleOutput   INFO     Generation: 193, best fitness: -0.015, scaled fitness: 25619377276308.293\n",
      "gaft.ConsoleOutput   INFO     Generation: 194, best fitness: -105.000, scaled fitness: 25619377276308.293\n",
      "gaft.ConsoleOutput   INFO     Generation: 195, best fitness: -0.003, scaled fitness: 25619377276308.293\n",
      "gaft.ConsoleOutput   INFO     Generation: 196, best fitness: -0.001, scaled fitness: 25619377276308.293\n",
      "gaft.ConsoleOutput   INFO     Generation: 197, best fitness: -5.288, scaled fitness: 25619377276308.293\n",
      "gaft.ConsoleOutput   INFO     Generation: 198, best fitness: -0.010, scaled fitness: 25619377276308.293\n",
      "gaft.ConsoleOutput   INFO     Generation: 199, best fitness: -0.003, scaled fitness: 25619377276308.293\n",
      "gaft.ConsoleOutput   INFO     Generation: 200, best fitness: -0.001, scaled fitness: 25619377276308.293\n",
      "gaft.ConsoleOutput   INFO     Generation: 201, best fitness: -0.003, scaled fitness: 25619377276308.293\n",
      "gaft.ConsoleOutput   INFO     Generation: 202, best fitness: -0.041, scaled fitness: 25619377276308.293\n",
      "gaft.ConsoleOutput   INFO     Generation: 203, best fitness: -0.013, scaled fitness: 25619377276308.293\n",
      "gaft.ConsoleOutput   INFO     Generation: 204, best fitness: -5.001, scaled fitness: 25619377276308.293\n",
      "gaft.ConsoleOutput   INFO     Generation: 205, best fitness: -0.004, scaled fitness: 25619377276308.293\n",
      "gaft.ConsoleOutput   INFO     Generation: 206, best fitness: -0.041, scaled fitness: 25619377276308.293\n",
      "gaft.ConsoleOutput   INFO     Generation: 207, best fitness: -0.044, scaled fitness: 25619377276308.293\n",
      "gaft.ConsoleOutput   INFO     Generation: 208, best fitness: -0.003, scaled fitness: 25619377276308.293\n",
      "gaft.ConsoleOutput   INFO     Generation: 209, best fitness: -0.001, scaled fitness: 25619377276308.293\n",
      "gaft.ConsoleOutput   INFO     Generation: 210, best fitness: -0.025, scaled fitness: 25619377276308.293\n",
      "gaft.ConsoleOutput   INFO     Generation: 211, best fitness: -0.003, scaled fitness: 25619377276308.293\n",
      "gaft.ConsoleOutput   INFO     Generation: 212, best fitness: -0.041, scaled fitness: 25619377276308.293\n",
      "gaft.ConsoleOutput   INFO     Generation: 213, best fitness: -0.042, scaled fitness: 25619377276308.293\n",
      "gaft.ConsoleOutput   INFO     Generation: 214, best fitness: -5.001, scaled fitness: 25619377276308.293\n",
      "gaft.ConsoleOutput   INFO     Generation: 215, best fitness: -0.003, scaled fitness: 25619377276308.293\n",
      "gaft.ConsoleOutput   INFO     Generation: 216, best fitness: -0.004, scaled fitness: 25619377276308.293\n",
      "gaft.ConsoleOutput   INFO     Generation: 217, best fitness: -5.046, scaled fitness: 25619377276308.293\n",
      "gaft.ConsoleOutput   INFO     Generation: 218, best fitness: -0.010, scaled fitness: 25619377276308.293\n",
      "gaft.ConsoleOutput   INFO     Generation: 219, best fitness: -0.003, scaled fitness: 25619377276308.293\n",
      "gaft.ConsoleOutput   INFO     Generation: 220, best fitness: -0.001, scaled fitness: 25619377276308.293\n",
      "gaft.ConsoleOutput   INFO     Generation: 221, best fitness: -0.001, scaled fitness: 25619377276308.293\n",
      "gaft.ConsoleOutput   INFO     Generation: 222, best fitness: -0.001, scaled fitness: 25619377276308.293\n",
      "gaft.ConsoleOutput   INFO     Generation: 223, best fitness: -84479305.000, scaled fitness: 25619377276308.293\n",
      "gaft.ConsoleOutput   INFO     Generation: 224, best fitness: -5.000, scaled fitness: 25619377276308.293\n",
      "gaft.ConsoleOutput   INFO     Generation: 225, best fitness: -0.001, scaled fitness: 25619377276308.293\n",
      "gaft.ConsoleOutput   INFO     Generation: 226, best fitness: -0.010, scaled fitness: 25619377276308.293\n",
      "gaft.ConsoleOutput   INFO     Generation: 227, best fitness: -0.011, scaled fitness: 25619377276308.293\n",
      "gaft.ConsoleOutput   INFO     Generation: 228, best fitness: -0.001, scaled fitness: 25619377276308.293\n",
      "gaft.ConsoleOutput   INFO     Generation: 229, best fitness: -0.126, scaled fitness: 25619377276308.293\n",
      "gaft.ConsoleOutput   INFO     Generation: 230, best fitness: -0.045, scaled fitness: 25619377276308.293\n",
      "gaft.ConsoleOutput   INFO     Generation: 231, best fitness: -0.041, scaled fitness: 25619377276308.293\n",
      "gaft.ConsoleOutput   INFO     Generation: 232, best fitness: -0.004, scaled fitness: 25619377276308.293\n",
      "gaft.ConsoleOutput   INFO     Generation: 233, best fitness: -84479305.000, scaled fitness: 25619377276308.293\n",
      "gaft.ConsoleOutput   INFO     Generation: 234, best fitness: -5.001, scaled fitness: 25619377276308.293\n",
      "gaft.ConsoleOutput   INFO     Generation: 235, best fitness: -5.001, scaled fitness: 25619377276308.293\n",
      "gaft.ConsoleOutput   INFO     Generation: 236, best fitness: -0.041, scaled fitness: 25619377276308.293\n",
      "gaft.ConsoleOutput   INFO     Generation: 237, best fitness: -0.001, scaled fitness: 25619377276308.293\n"
     ]
    },
    {
     "name": "stdout",
     "output_type": "stream",
     "text": [
      "gaft.ConsoleOutput   INFO     Generation: 238, best fitness: -5.288, scaled fitness: 25619377276308.293\n",
      "gaft.ConsoleOutput   INFO     Generation: 239, best fitness: -0.043, scaled fitness: 25619377276308.293\n",
      "gaft.ConsoleOutput   INFO     Generation: 240, best fitness: -0.003, scaled fitness: 25619377276308.293\n",
      "gaft.ConsoleOutput   INFO     Generation: 241, best fitness: -0.003, scaled fitness: 25619377276308.293\n",
      "gaft.ConsoleOutput   INFO     Generation: 242, best fitness: -0.003, scaled fitness: 25619377276308.293\n",
      "gaft.ConsoleOutput   INFO     Generation: 243, best fitness: -0.001, scaled fitness: 25619377276308.293\n",
      "gaft.ConsoleOutput   INFO     Generation: 244, best fitness: -5.001, scaled fitness: 25619377276308.293\n",
      "gaft.ConsoleOutput   INFO     Generation: 245, best fitness: -0.049, scaled fitness: 25619377276308.293\n",
      "gaft.ConsoleOutput   INFO     Generation: 246, best fitness: -0.068, scaled fitness: 25619377276308.293\n",
      "gaft.ConsoleOutput   INFO     Generation: 247, best fitness: -0.016, scaled fitness: 25619377276308.293\n",
      "gaft.ConsoleOutput   INFO     Generation: 248, best fitness: -0.003, scaled fitness: 25619377276308.293\n",
      "gaft.ConsoleOutput   INFO     Generation: 249, best fitness: -5.254, scaled fitness: 25619377276308.293\n",
      "gaft.ConsoleOutput   INFO     Generation: 250, best fitness: -0.041, scaled fitness: 25619377276308.293\n",
      "gaft.ConsoleOutput   INFO     Generation: 251, best fitness: -0.049, scaled fitness: 25619377276308.293\n",
      "gaft.ConsoleOutput   INFO     Generation: 252, best fitness: -0.003, scaled fitness: 25619377276308.293\n",
      "gaft.ConsoleOutput   INFO     Generation: 253, best fitness: -5.279, scaled fitness: 25619377276308.293\n",
      "gaft.ConsoleOutput   INFO     Generation: 254, best fitness: -5.001, scaled fitness: 25619377276308.293\n",
      "gaft.ConsoleOutput   INFO     Generation: 255, best fitness: -0.003, scaled fitness: 25619377276308.293\n",
      "gaft.ConsoleOutput   INFO     Generation: 256, best fitness: -5.001, scaled fitness: 25619377276308.293\n",
      "gaft.ConsoleOutput   INFO     Generation: 257, best fitness: -0.041, scaled fitness: 25619377276308.293\n",
      "gaft.ConsoleOutput   INFO     Generation: 258, best fitness: -84479305.000, scaled fitness: 25619377276308.293\n",
      "gaft.ConsoleOutput   INFO     Generation: 259, best fitness: -5.001, scaled fitness: 25619377276308.293\n",
      "gaft.ConsoleOutput   INFO     Generation: 260, best fitness: -0.052, scaled fitness: 25619377276308.293\n",
      "gaft.ConsoleOutput   INFO     Generation: 261, best fitness: -0.003, scaled fitness: 25619377276308.293\n",
      "gaft.ConsoleOutput   INFO     Generation: 262, best fitness: -0.003, scaled fitness: 25619377276308.293\n",
      "gaft.ConsoleOutput   INFO     Generation: 263, best fitness: -0.041, scaled fitness: 25619377276308.293\n",
      "gaft.ConsoleOutput   INFO     Generation: 264, best fitness: -0.001, scaled fitness: 25619377276308.293\n",
      "gaft.ConsoleOutput   INFO     Generation: 265, best fitness: -0.000, scaled fitness: 25619377276308.293\n",
      "gaft.ConsoleOutput   INFO     Generation: 266, best fitness: -0.003, scaled fitness: 25619377276308.293\n",
      "gaft.ConsoleOutput   INFO     Generation: 267, best fitness: -0.004, scaled fitness: 25619377276308.293\n",
      "gaft.ConsoleOutput   INFO     Generation: 268, best fitness: -0.003, scaled fitness: 25619377276308.293\n",
      "gaft.ConsoleOutput   INFO     Generation: 269, best fitness: -0.002, scaled fitness: 25619377276308.293\n",
      "gaft.ConsoleOutput   INFO     Generation: 270, best fitness: -0.003, scaled fitness: 25619377276308.293\n",
      "gaft.ConsoleOutput   INFO     Generation: 271, best fitness: -84479305.000, scaled fitness: 25619377276308.293\n",
      "gaft.ConsoleOutput   INFO     Generation: 272, best fitness: -0.058, scaled fitness: 25619377276308.293\n",
      "gaft.ConsoleOutput   INFO     Generation: 273, best fitness: -0.010, scaled fitness: 25619377276308.293\n",
      "gaft.ConsoleOutput   INFO     Generation: 274, best fitness: -0.045, scaled fitness: 25619377276308.293\n",
      "gaft.ConsoleOutput   INFO     Generation: 275, best fitness: -0.003, scaled fitness: 25619377276308.293\n",
      "gaft.ConsoleOutput   INFO     Generation: 276, best fitness: -0.000, scaled fitness: 25619377276308.293\n",
      "gaft.ConsoleOutput   INFO     Generation: 277, best fitness: -0.016, scaled fitness: 25619377276308.293\n",
      "gaft.ConsoleOutput   INFO     Generation: 278, best fitness: -82.609, scaled fitness: 25619377276308.293\n",
      "gaft.ConsoleOutput   INFO     Generation: 279, best fitness: -305.000, scaled fitness: 25619377276308.293\n",
      "gaft.ConsoleOutput   INFO     Generation: 280, best fitness: -0.052, scaled fitness: 25619377276308.293\n",
      "gaft.ConsoleOutput   INFO     Generation: 281, best fitness: -0.008, scaled fitness: 25619377276308.293\n",
      "gaft.ConsoleOutput   INFO     Generation: 282, best fitness: -0.017, scaled fitness: 25619377276308.293\n",
      "gaft.ConsoleOutput   INFO     Generation: 283, best fitness: -0.041, scaled fitness: 25619377276308.293\n",
      "gaft.ConsoleOutput   INFO     Generation: 284, best fitness: -0.003, scaled fitness: 25619377276308.293\n",
      "gaft.ConsoleOutput   INFO     Generation: 285, best fitness: -5.001, scaled fitness: 25619377276308.293\n",
      "gaft.ConsoleOutput   INFO     Generation: 286, best fitness: -84479305.000, scaled fitness: 25619377276308.293\n",
      "gaft.ConsoleOutput   INFO     Generation: 287, best fitness: -0.041, scaled fitness: 25619377276308.293\n",
      "gaft.ConsoleOutput   INFO     Generation: 288, best fitness: -0.003, scaled fitness: 25619377276308.293\n",
      "gaft.ConsoleOutput   INFO     Generation: 289, best fitness: -0.004, scaled fitness: 25619377276308.293\n",
      "gaft.ConsoleOutput   INFO     Generation: 290, best fitness: -0.041, scaled fitness: 25619377276308.293\n",
      "gaft.ConsoleOutput   INFO     Generation: 291, best fitness: -48.030, scaled fitness: 25619377276308.293\n",
      "gaft.ConsoleOutput   INFO     Generation: 292, best fitness: -5.288, scaled fitness: 25619377276308.293\n",
      "gaft.ConsoleOutput   INFO     Generation: 293, best fitness: -0.000, scaled fitness: 25619377276308.293\n",
      "gaft.ConsoleOutput   INFO     Generation: 294, best fitness: -0.001, scaled fitness: 25619377276308.293\n",
      "gaft.ConsoleOutput   INFO     Generation: 295, best fitness: -0.003, scaled fitness: 25619377276308.293\n",
      "gaft.ConsoleOutput   INFO     Generation: 296, best fitness: -0.011, scaled fitness: 25619377276308.293\n",
      "gaft.ConsoleOutput   INFO     Generation: 297, best fitness: -5.001, scaled fitness: 25619377276308.293\n",
      "gaft.ConsoleOutput   INFO     Generation: 298, best fitness: -0.003, scaled fitness: 25619377276308.293\n",
      "gaft.ConsoleOutput   INFO     Generation: 299, best fitness: -0.041, scaled fitness: 25619377276308.293\n",
      "gaft.ConsoleOutput   INFO     Generation: 300, best fitness: -0.003, scaled fitness: 25619377276308.293\n",
      "gaft.ConsoleOutput   INFO     Optimal solution: ([0.0, 0.998046875, 0.25], -0.0025781291250016507)\n"
     ]
    }
   ],
   "source": [
    "distance = random.randint(1,200)\n",
    "path_loss = 35.3 \n",
    "path_loss=35.3+37.6*math.log10(distance)+8\n",
    "LSCG = 10 **-(path_loss/10)\n",
    "SSCG = np.random.rayleigh()\n",
    "H = SSCG * LSCG\n",
    "BW = 180000 * 3   # random.randint(1,2)\n",
    "\n",
    "D_rate_max = (BW * math.log2(1+(H * 0.2 )/(BW * (10**(-20.4)))))\n",
    "\n",
    "T_delay_max = (32*8)/(D_rate_max)\n",
    "done_done = False\n",
    "if T_delay_max > 0.000125:\n",
    "    done_done = True\n",
    "    \n",
    "print(T_delay_max)\n",
    "print(done_done)\n",
    "@engine.fitness_register\n",
    "def fitness(indv): ###########피트니스 함수를 조건부로 새로짜야함\n",
    "    \n",
    "    global done_time\n",
    "    done_time = False\n",
    "    global done_error\n",
    "    done_error = False\n",
    "    global done_t_delay\n",
    "    done_t_delay = False\n",
    "    \n",
    "    \n",
    "    f,o,p = indv.solution\n",
    "    e = 10**-7\n",
    "    f=f+e\n",
    "    o=o+e\n",
    "    p=p+e\n",
    "    \n",
    "    SNR_u = (H * 0.2* p )/(BW * (10**(-20.4)))\n",
    "    D_rate = (BW * math.log2(1+(H * 0.2* p )/(BW * (10**(-20.4)))))\n",
    "    global T_delay\n",
    "    T_delay = 32*8/D_rate\n",
    "\n",
    "    pen = 0\n",
    "    q = 0.1 * o\n",
    "    \n",
    "    D = math.ceil((330*32)/(125000*(f)))\n",
    "    \n",
    "    roh = q*D    \n",
    "    \n",
    "    ii = math.ceil(8-D)\n",
    "    jj = math.floor(ii/D)\n",
    "    SIGMA = 0\n",
    "    error_u = 0\n",
    "        \n",
    "    for k in range(jj + 1):\n",
    "        SIGMA = SIGMA + ((q * ((1 - q) ** (D - 1))) ** k) * ((-1) ** k) * math.comb(ii + k - k * D, k)\n",
    "        error_u = 1 - ((1 - q) ** (-ii - 1)) * (1 - roh) * SIGMA  # find error\n",
    "    \n",
    "    if T_delay > 0.000125:   \n",
    "        pen =  -500 + 100*(0.000125-T_delay )\n",
    "        done_t_delay =True\n",
    "    if D > 8:                    ## 1ms 조건은 만족\n",
    "        pen = -500+100*(8-D) \n",
    "        done_time = True\n",
    "        \n",
    "    if error_u > 10**-7:        ## 로컬 큐잉\n",
    "        pen = -500+ 100*(10**-7  - error_u )\n",
    "        done_error = True\n",
    "        \n",
    "        \n",
    "    return (D_rate)/((10**(-15))*((125000*f)**2)*o*(330*32) +  (1-o)*p*T_delay)  + pen\n",
    "\n",
    "\n",
    "engine.run(ng=300)\n",
    "best_indv = engine.population.best_indv(engine.fitness)\n",
    "f = best_indv.solution[0]\n",
    "o = best_indv.solution[1]\n",
    "p = best_indv.solution[2]\n",
    "Off_bit = (1-o)*32*8\n",
    "T_d = 0\n",
    "done = done_time or done_error or done_t_delay\n",
    "\n",
    "#EE = (10**(-15))*((125000*(f))**2)*o*(330*32) +  (1-o)*p*T_delay    \n",
    "\n",
    "#리턴 Off_task, T_d, EE, data_rate, BW, done 등"
   ]
  },
  {
   "cell_type": "code",
   "execution_count": 397,
   "metadata": {},
   "outputs": [
    {
     "name": "stdout",
     "output_type": "stream",
     "text": [
      "True\n",
      "True\n",
      "False\n"
     ]
    }
   ],
   "source": [
    "print(done_t_delay)\n",
    "print(done_time)\n",
    "print(done_error)\n"
   ]
  },
  {
   "cell_type": "code",
   "execution_count": null,
   "metadata": {},
   "outputs": [],
   "source": []
  },
  {
   "cell_type": "markdown",
   "metadata": {},
   "source": [
    "# GA _ eMBB 케이스 Multi-RAT 오프로딩\n"
   ]
  },
  {
   "cell_type": "markdown",
   "metadata": {},
   "source": [
    "제약조건 1.T_latency = max {T_local , T_tran + Tproc_mec  } < Tn_max\n",
    "여기서 최적화시 T_local, T_tran을 유추 가능하지만, T_proc_mec의 경우  MEC의 서비스레이트에 의해 결정되는 부분임.\n",
    "\n",
    "따라서 T_proc는 deterministic할것이므로, 우리는 T_tran을 최소화하는 방향으로 나아가야함.\n",
    "그러나 T_tran 을 최소화화면서 동시에  energy consumption을 최소화해야함.\n",
    "따라서 우리는 이때 조건1을 추가적으로 도입. \n",
    "조건1 --> T_tran1 = T_tran2의 조건...\n",
    "\n",
    "이는 \n",
    "\n",
    "\n",
    "\n",
    "===번외=======\n",
    "\n",
    "만약 T_local < T_tran인 경우, Tn_max는 "
   ]
  },
  {
   "cell_type": "code",
   "execution_count": 2,
   "metadata": {},
   "outputs": [
    {
     "ename": "NameError",
     "evalue": "name 'FlipBitMutation' is not defined",
     "output_type": "error",
     "traceback": [
      "\u001b[1;31m---------------------------------------------------------------------------\u001b[0m",
      "\u001b[1;31mNameError\u001b[0m                                 Traceback (most recent call last)",
      "\u001b[1;32m<ipython-input-2-8a2f72ed7344>\u001b[0m in \u001b[0;36m<module>\u001b[1;34m\u001b[0m\n\u001b[0;32m      1\u001b[0m \u001b[1;32mimport\u001b[0m \u001b[0mrandom\u001b[0m\u001b[1;33m\u001b[0m\u001b[1;33m\u001b[0m\u001b[0m\n\u001b[0;32m      2\u001b[0m \u001b[1;32mimport\u001b[0m \u001b[0mmath\u001b[0m\u001b[1;33m\u001b[0m\u001b[1;33m\u001b[0m\u001b[0m\n\u001b[1;32m----> 3\u001b[1;33m \u001b[0mmutation\u001b[0m \u001b[1;33m=\u001b[0m \u001b[0mFlipBitMutation\u001b[0m\u001b[1;33m(\u001b[0m\u001b[0mpm\u001b[0m\u001b[1;33m=\u001b[0m\u001b[1;36m0.1\u001b[0m\u001b[1;33m)\u001b[0m\u001b[1;33m\u001b[0m\u001b[1;33m\u001b[0m\u001b[0m\n\u001b[0m\u001b[0;32m      4\u001b[0m \u001b[0mselection\u001b[0m \u001b[1;33m=\u001b[0m \u001b[0mTournamentSelection\u001b[0m\u001b[1;33m(\u001b[0m\u001b[1;33m)\u001b[0m\u001b[1;33m\u001b[0m\u001b[1;33m\u001b[0m\u001b[0m\n\u001b[0;32m      5\u001b[0m \u001b[0mcrossover\u001b[0m \u001b[1;33m=\u001b[0m \u001b[0mUniformCrossover\u001b[0m\u001b[1;33m(\u001b[0m\u001b[0mpc\u001b[0m\u001b[1;33m=\u001b[0m\u001b[1;36m0.8\u001b[0m\u001b[1;33m,\u001b[0m \u001b[0mpe\u001b[0m\u001b[1;33m=\u001b[0m\u001b[1;36m0.5\u001b[0m\u001b[1;33m)\u001b[0m\u001b[1;33m\u001b[0m\u001b[1;33m\u001b[0m\u001b[0m\n",
      "\u001b[1;31mNameError\u001b[0m: name 'FlipBitMutation' is not defined"
     ]
    }
   ],
   "source": [
    "import random\n",
    "import math\n",
    "mutation = FlipBitMutation(pm=0.1)\n",
    "selection = TournamentSelection()\n",
    "crossover = UniformCrossover(pc=0.8, pe=0.5)\n",
    "indv = BinaryIndividual(ranges=[(0, 1), (0,1), (0,1), (0,1), (0,1)], eps=0.001)\n",
    "population = Population(indv_template=indv, size=50).init()\n",
    "engine = GAEngine(population=population, selection=selection,crossover=crossover, mutation=mutation,analysis=[ConsoleOutput])"
   ]
  },
  {
   "cell_type": "code",
   "execution_count": 136,
   "metadata": {},
   "outputs": [
    {
     "name": "stdout",
     "output_type": "stream",
     "text": [
      "1.1255848525300918e-12\n",
      "7.17258373850641e-13\n"
     ]
    }
   ],
   "source": [
    "distance1 = random.randint(1,200)\n",
    "distance2 = random.randint(1,200)\n",
    "path_loss1=35.3+37.6*math.log10(distance1)+8\n",
    "path_loss2=35.3+37.6*math.log10(distance2)+8\n",
    "LSCG1 = 10 **-(path_loss1/10)\n",
    "LSCG2 = 10 **-(path_loss2/10)\n",
    "SSCG1 = np.random.rayleigh()\n",
    "SSCG2 = np.random.rayleigh()\n",
    "\n",
    "H1 = SSCG1 * LSCG2\n",
    "H2 = SSCG2* LSCG2\n",
    "BW1 = 180000 * 1   # random.randint(1,2)\n",
    "BW2 = 180000 * 1\n",
    "\n",
    "\n",
    "print(H1)\n",
    "print(H2)\n"
   ]
  },
  {
   "cell_type": "code",
   "execution_count": 144,
   "metadata": {},
   "outputs": [
    {
     "name": "stdout",
     "output_type": "stream",
     "text": [
      "gaft.ConsoleOutput   INFO     Generation number: 300 Population number: 50\n",
      "gaft.ConsoleOutput   INFO     Generation: 1, best fitness: -0.656, scaled fitness: -0.007\n",
      "gaft.ConsoleOutput   INFO     Generation: 2, best fitness: -3.266, scaled fitness: -0.007\n",
      "gaft.ConsoleOutput   INFO     Generation: 3, best fitness: -5.437, scaled fitness: -0.007\n",
      "gaft.ConsoleOutput   INFO     Generation: 4, best fitness: -1.570, scaled fitness: -0.007\n",
      "gaft.ConsoleOutput   INFO     Generation: 5, best fitness: -1.313, scaled fitness: -0.007\n",
      "gaft.ConsoleOutput   INFO     Generation: 6, best fitness: -2.504, scaled fitness: -0.007\n",
      "gaft.ConsoleOutput   INFO     Generation: 7, best fitness: -8.332, scaled fitness: -0.007\n",
      "gaft.ConsoleOutput   INFO     Generation: 8, best fitness: -7.809, scaled fitness: -0.007\n",
      "gaft.ConsoleOutput   INFO     Generation: 9, best fitness: -3.082, scaled fitness: -0.007\n",
      "gaft.ConsoleOutput   INFO     Generation: 10, best fitness: -8.036, scaled fitness: -0.007\n",
      "gaft.ConsoleOutput   INFO     Generation: 11, best fitness: -3.018, scaled fitness: -0.007\n",
      "gaft.ConsoleOutput   INFO     Generation: 12, best fitness: -2.036, scaled fitness: -0.007\n",
      "gaft.ConsoleOutput   INFO     Generation: 13, best fitness: -2.307, scaled fitness: -0.007\n",
      "gaft.ConsoleOutput   INFO     Generation: 14, best fitness: -7.472, scaled fitness: -0.007\n",
      "gaft.ConsoleOutput   INFO     Generation: 15, best fitness: -8.958, scaled fitness: -0.007\n",
      "gaft.ConsoleOutput   INFO     Generation: 16, best fitness: -6.417, scaled fitness: -0.007\n",
      "gaft.ConsoleOutput   INFO     Generation: 17, best fitness: -1.810, scaled fitness: -0.007\n",
      "gaft.ConsoleOutput   INFO     Generation: 18, best fitness: -5.911, scaled fitness: -0.007\n",
      "gaft.ConsoleOutput   INFO     Generation: 19, best fitness: -7.920, scaled fitness: -0.007\n",
      "gaft.ConsoleOutput   INFO     Generation: 20, best fitness: -8.655, scaled fitness: -0.007\n",
      "gaft.ConsoleOutput   INFO     Generation: 21, best fitness: -6.845, scaled fitness: -0.007\n",
      "gaft.ConsoleOutput   INFO     Generation: 22, best fitness: -0.730, scaled fitness: -0.007\n",
      "gaft.ConsoleOutput   INFO     Generation: 23, best fitness: -9.137, scaled fitness: -0.007\n",
      "gaft.ConsoleOutput   INFO     Generation: 24, best fitness: -8.193, scaled fitness: -0.007\n",
      "gaft.ConsoleOutput   INFO     Generation: 25, best fitness: -1.158, scaled fitness: -0.007\n",
      "gaft.ConsoleOutput   INFO     Generation: 26, best fitness: -3.953, scaled fitness: -0.007\n",
      "gaft.ConsoleOutput   INFO     Generation: 27, best fitness: -4.381, scaled fitness: -0.007\n",
      "gaft.ConsoleOutput   INFO     Generation: 28, best fitness: -8.306, scaled fitness: -0.007\n",
      "gaft.ConsoleOutput   INFO     Generation: 29, best fitness: -5.715, scaled fitness: -0.007\n",
      "gaft.ConsoleOutput   INFO     Generation: 30, best fitness: -8.130, scaled fitness: -0.007\n",
      "gaft.ConsoleOutput   INFO     Generation: 31, best fitness: -1.490, scaled fitness: -0.007\n",
      "gaft.ConsoleOutput   INFO     Generation: 32, best fitness: -7.905, scaled fitness: -0.007\n",
      "gaft.ConsoleOutput   INFO     Generation: 33, best fitness: -7.759, scaled fitness: -0.007\n",
      "gaft.ConsoleOutput   INFO     Generation: 34, best fitness: -7.618, scaled fitness: -0.007\n",
      "gaft.ConsoleOutput   INFO     Generation: 35, best fitness: -8.040, scaled fitness: -0.007\n",
      "gaft.ConsoleOutput   INFO     Generation: 36, best fitness: -7.927, scaled fitness: -0.007\n",
      "gaft.ConsoleOutput   INFO     Generation: 37, best fitness: -10.710, scaled fitness: -0.007\n",
      "gaft.ConsoleOutput   INFO     Generation: 38, best fitness: -6.139, scaled fitness: -0.007\n",
      "gaft.ConsoleOutput   INFO     Generation: 39, best fitness: -7.329, scaled fitness: -0.007\n",
      "gaft.ConsoleOutput   INFO     Generation: 40, best fitness: -7.802, scaled fitness: -0.007\n",
      "gaft.ConsoleOutput   INFO     Generation: 41, best fitness: -8.549, scaled fitness: -0.007\n",
      "gaft.ConsoleOutput   INFO     Generation: 42, best fitness: -5.262, scaled fitness: -0.007\n",
      "gaft.ConsoleOutput   INFO     Generation: 43, best fitness: -8.803, scaled fitness: -0.007\n",
      "gaft.ConsoleOutput   INFO     Generation: 44, best fitness: -5.977, scaled fitness: -0.007\n",
      "gaft.ConsoleOutput   INFO     Generation: 45, best fitness: -0.598, scaled fitness: -0.007\n",
      "gaft.ConsoleOutput   INFO     Generation: 46, best fitness: -7.956, scaled fitness: -0.007\n",
      "gaft.ConsoleOutput   INFO     Generation: 47, best fitness: -7.800, scaled fitness: -0.007\n",
      "gaft.ConsoleOutput   INFO     Generation: 48, best fitness: -7.632, scaled fitness: -0.007\n",
      "gaft.ConsoleOutput   INFO     Generation: 49, best fitness: -7.620, scaled fitness: -0.007\n",
      "gaft.ConsoleOutput   INFO     Generation: 50, best fitness: -8.556, scaled fitness: -0.007\n",
      "gaft.ConsoleOutput   INFO     Generation: 51, best fitness: -9.450, scaled fitness: -0.007\n",
      "gaft.ConsoleOutput   INFO     Generation: 52, best fitness: -0.933, scaled fitness: -0.007\n",
      "gaft.ConsoleOutput   INFO     Generation: 53, best fitness: -6.388, scaled fitness: -0.007\n",
      "gaft.ConsoleOutput   INFO     Generation: 54, best fitness: -8.935, scaled fitness: -0.007\n",
      "gaft.ConsoleOutput   INFO     Generation: 55, best fitness: -4.548, scaled fitness: -0.007\n",
      "gaft.ConsoleOutput   INFO     Generation: 56, best fitness: -0.525, scaled fitness: -0.007\n",
      "gaft.ConsoleOutput   INFO     Generation: 57, best fitness: -1.429, scaled fitness: -0.007\n",
      "gaft.ConsoleOutput   INFO     Generation: 58, best fitness: -2.888, scaled fitness: -0.007\n",
      "gaft.ConsoleOutput   INFO     Generation: 59, best fitness: -4.582, scaled fitness: -0.007\n",
      "gaft.ConsoleOutput   INFO     Generation: 60, best fitness: -4.550, scaled fitness: -0.007\n",
      "gaft.ConsoleOutput   INFO     Generation: 61, best fitness: -7.085, scaled fitness: -0.007\n",
      "gaft.ConsoleOutput   INFO     Generation: 62, best fitness: -8.017, scaled fitness: -0.007\n",
      "gaft.ConsoleOutput   INFO     Generation: 63, best fitness: -4.955, scaled fitness: -0.007\n",
      "gaft.ConsoleOutput   INFO     Generation: 64, best fitness: -0.647, scaled fitness: -0.007\n",
      "gaft.ConsoleOutput   INFO     Generation: 65, best fitness: -7.930, scaled fitness: -0.007\n",
      "gaft.ConsoleOutput   INFO     Generation: 66, best fitness: -7.629, scaled fitness: -0.007\n",
      "gaft.ConsoleOutput   INFO     Generation: 67, best fitness: -8.187, scaled fitness: -0.007\n",
      "gaft.ConsoleOutput   INFO     Generation: 68, best fitness: -7.614, scaled fitness: -0.007\n",
      "gaft.ConsoleOutput   INFO     Generation: 69, best fitness: -7.845, scaled fitness: -0.007\n",
      "gaft.ConsoleOutput   INFO     Generation: 70, best fitness: -3.136, scaled fitness: -0.007\n",
      "gaft.ConsoleOutput   INFO     Generation: 71, best fitness: -8.812, scaled fitness: -0.007\n",
      "gaft.ConsoleOutput   INFO     Generation: 72, best fitness: -0.290, scaled fitness: -0.007\n",
      "gaft.ConsoleOutput   INFO     Generation: 73, best fitness: -8.639, scaled fitness: -0.007\n",
      "gaft.ConsoleOutput   INFO     Generation: 74, best fitness: -5.276, scaled fitness: -0.007\n",
      "gaft.ConsoleOutput   INFO     Generation: 75, best fitness: -8.741, scaled fitness: -0.007\n",
      "gaft.ConsoleOutput   INFO     Generation: 76, best fitness: -8.576, scaled fitness: -0.007\n",
      "gaft.ConsoleOutput   INFO     Generation: 77, best fitness: -0.726, scaled fitness: -0.007\n",
      "gaft.ConsoleOutput   INFO     Generation: 78, best fitness: -7.936, scaled fitness: -0.007\n",
      "gaft.ConsoleOutput   INFO     Generation: 79, best fitness: -7.707, scaled fitness: -0.007\n",
      "gaft.ConsoleOutput   INFO     Generation: 80, best fitness: -4.523, scaled fitness: -0.007\n",
      "gaft.ConsoleOutput   INFO     Generation: 81, best fitness: -0.249, scaled fitness: -0.007\n",
      "gaft.ConsoleOutput   INFO     Generation: 82, best fitness: -0.477, scaled fitness: -0.007\n",
      "gaft.ConsoleOutput   INFO     Generation: 83, best fitness: -8.404, scaled fitness: -0.007\n",
      "gaft.ConsoleOutput   INFO     Generation: 84, best fitness: -9.011, scaled fitness: -0.007\n",
      "gaft.ConsoleOutput   INFO     Generation: 85, best fitness: -0.951, scaled fitness: -0.007\n",
      "gaft.ConsoleOutput   INFO     Generation: 86, best fitness: -0.525, scaled fitness: -0.007\n",
      "gaft.ConsoleOutput   INFO     Generation: 87, best fitness: -7.623, scaled fitness: -0.007\n",
      "gaft.ConsoleOutput   INFO     Generation: 88, best fitness: -8.592, scaled fitness: -0.007\n",
      "gaft.ConsoleOutput   INFO     Generation: 89, best fitness: -2.735, scaled fitness: -0.007\n",
      "gaft.ConsoleOutput   INFO     Generation: 90, best fitness: -2.923, scaled fitness: -0.007\n"
     ]
    },
    {
     "name": "stdout",
     "output_type": "stream",
     "text": [
      "gaft.ConsoleOutput   INFO     Generation: 91, best fitness: -32.731, scaled fitness: -0.007\n",
      "gaft.ConsoleOutput   INFO     Generation: 92, best fitness: -0.623, scaled fitness: -0.007\n",
      "gaft.ConsoleOutput   INFO     Generation: 93, best fitness: -11.076, scaled fitness: -0.007\n",
      "gaft.ConsoleOutput   INFO     Generation: 94, best fitness: -0.538, scaled fitness: -0.007\n",
      "gaft.ConsoleOutput   INFO     Generation: 95, best fitness: -8.209, scaled fitness: -0.007\n",
      "gaft.ConsoleOutput   INFO     Generation: 96, best fitness: -7.681, scaled fitness: -0.007\n",
      "gaft.ConsoleOutput   INFO     Generation: 97, best fitness: -8.006, scaled fitness: -0.007\n",
      "gaft.ConsoleOutput   INFO     Generation: 98, best fitness: -8.021, scaled fitness: -0.007\n",
      "gaft.ConsoleOutput   INFO     Generation: 99, best fitness: -5.186, scaled fitness: -0.007\n",
      "gaft.ConsoleOutput   INFO     Generation: 100, best fitness: -11.350, scaled fitness: -0.007\n",
      "gaft.ConsoleOutput   INFO     Generation: 101, best fitness: -3.091, scaled fitness: -0.007\n",
      "gaft.ConsoleOutput   INFO     Generation: 102, best fitness: -7.601, scaled fitness: -0.007\n",
      "gaft.ConsoleOutput   INFO     Generation: 103, best fitness: -7.990, scaled fitness: -0.007\n",
      "gaft.ConsoleOutput   INFO     Generation: 104, best fitness: -2.034, scaled fitness: -0.007\n",
      "gaft.ConsoleOutput   INFO     Generation: 105, best fitness: -9.166, scaled fitness: -0.007\n",
      "gaft.ConsoleOutput   INFO     Generation: 106, best fitness: -9.529, scaled fitness: -0.007\n",
      "gaft.ConsoleOutput   INFO     Generation: 107, best fitness: -2.074, scaled fitness: -0.007\n",
      "gaft.ConsoleOutput   INFO     Generation: 108, best fitness: -8.848, scaled fitness: -0.007\n",
      "gaft.ConsoleOutput   INFO     Generation: 109, best fitness: -11.084, scaled fitness: -0.007\n",
      "gaft.ConsoleOutput   INFO     Generation: 110, best fitness: -10.977, scaled fitness: -0.007\n",
      "gaft.ConsoleOutput   INFO     Generation: 111, best fitness: -0.566, scaled fitness: -0.007\n",
      "gaft.ConsoleOutput   INFO     Generation: 112, best fitness: -13.205, scaled fitness: -0.007\n",
      "gaft.ConsoleOutput   INFO     Generation: 113, best fitness: -15.133, scaled fitness: -0.007\n",
      "gaft.ConsoleOutput   INFO     Generation: 114, best fitness: -5.522, scaled fitness: -0.007\n",
      "gaft.ConsoleOutput   INFO     Generation: 115, best fitness: -8.381, scaled fitness: -0.007\n",
      "gaft.ConsoleOutput   INFO     Generation: 116, best fitness: -12.745, scaled fitness: -0.007\n",
      "gaft.ConsoleOutput   INFO     Generation: 117, best fitness: -9.080, scaled fitness: -0.007\n",
      "gaft.ConsoleOutput   INFO     Generation: 118, best fitness: -7.157, scaled fitness: -0.007\n",
      "gaft.ConsoleOutput   INFO     Generation: 119, best fitness: -4.553, scaled fitness: -0.007\n",
      "gaft.ConsoleOutput   INFO     Generation: 120, best fitness: -42.830, scaled fitness: -0.007\n",
      "gaft.ConsoleOutput   INFO     Generation: 121, best fitness: -7.209, scaled fitness: -0.007\n",
      "gaft.ConsoleOutput   INFO     Generation: 122, best fitness: -47.602, scaled fitness: -0.007\n",
      "gaft.ConsoleOutput   INFO     Generation: 123, best fitness: -14.205, scaled fitness: -0.007\n",
      "gaft.ConsoleOutput   INFO     Generation: 124, best fitness: -9.778, scaled fitness: -0.007\n",
      "gaft.ConsoleOutput   INFO     Generation: 125, best fitness: -25.582, scaled fitness: -0.007\n",
      "gaft.ConsoleOutput   INFO     Generation: 126, best fitness: -22.758, scaled fitness: -0.007\n",
      "gaft.ConsoleOutput   INFO     Generation: 127, best fitness: -37.270, scaled fitness: -0.007\n",
      "gaft.ConsoleOutput   INFO     Generation: 128, best fitness: -11.353, scaled fitness: -0.007\n",
      "gaft.ConsoleOutput   INFO     Generation: 129, best fitness: -37.243, scaled fitness: -0.007\n",
      "gaft.ConsoleOutput   INFO     Generation: 130, best fitness: -37.690, scaled fitness: -0.007\n",
      "gaft.ConsoleOutput   INFO     Generation: 131, best fitness: -37.480, scaled fitness: -0.007\n",
      "gaft.ConsoleOutput   INFO     Generation: 132, best fitness: -20.476, scaled fitness: -0.007\n",
      "gaft.ConsoleOutput   INFO     Generation: 133, best fitness: -35.509, scaled fitness: -0.007\n",
      "gaft.ConsoleOutput   INFO     Generation: 134, best fitness: -37.073, scaled fitness: -0.007\n",
      "gaft.ConsoleOutput   INFO     Generation: 135, best fitness: -5.548, scaled fitness: -0.007\n",
      "gaft.ConsoleOutput   INFO     Generation: 136, best fitness: -23.124, scaled fitness: -0.007\n",
      "gaft.ConsoleOutput   INFO     Generation: 137, best fitness: -21.705, scaled fitness: -0.007\n",
      "gaft.ConsoleOutput   INFO     Generation: 138, best fitness: -13.670, scaled fitness: -0.007\n",
      "gaft.ConsoleOutput   INFO     Generation: 139, best fitness: -4.018, scaled fitness: -0.007\n",
      "gaft.ConsoleOutput   INFO     Generation: 140, best fitness: -10.703, scaled fitness: -0.007\n",
      "gaft.ConsoleOutput   INFO     Generation: 141, best fitness: -10.345, scaled fitness: -0.007\n",
      "gaft.ConsoleOutput   INFO     Generation: 142, best fitness: -14.589, scaled fitness: -0.007\n",
      "gaft.ConsoleOutput   INFO     Generation: 143, best fitness: -31.738, scaled fitness: -0.007\n",
      "gaft.ConsoleOutput   INFO     Generation: 144, best fitness: -1.504, scaled fitness: -0.007\n",
      "gaft.ConsoleOutput   INFO     Generation: 145, best fitness: -32.840, scaled fitness: -0.007\n",
      "gaft.ConsoleOutput   INFO     Generation: 146, best fitness: -11.583, scaled fitness: -0.007\n",
      "gaft.ConsoleOutput   INFO     Generation: 147, best fitness: -2.838, scaled fitness: -0.007\n",
      "gaft.ConsoleOutput   INFO     Generation: 148, best fitness: -6.198, scaled fitness: -0.007\n",
      "gaft.ConsoleOutput   INFO     Generation: 149, best fitness: -22.344, scaled fitness: -0.007\n",
      "gaft.ConsoleOutput   INFO     Generation: 150, best fitness: -19.284, scaled fitness: -0.007\n",
      "gaft.ConsoleOutput   INFO     Generation: 151, best fitness: -1.518, scaled fitness: -0.007\n",
      "gaft.ConsoleOutput   INFO     Generation: 152, best fitness: -23.831, scaled fitness: -0.007\n",
      "gaft.ConsoleOutput   INFO     Generation: 153, best fitness: -2.860, scaled fitness: -0.007\n",
      "gaft.ConsoleOutput   INFO     Generation: 154, best fitness: -26.863, scaled fitness: -0.007\n",
      "gaft.ConsoleOutput   INFO     Generation: 155, best fitness: -8.939, scaled fitness: -0.007\n",
      "gaft.ConsoleOutput   INFO     Generation: 156, best fitness: -32.860, scaled fitness: -0.007\n",
      "gaft.ConsoleOutput   INFO     Generation: 157, best fitness: -17.832, scaled fitness: -0.007\n",
      "gaft.ConsoleOutput   INFO     Generation: 158, best fitness: -34.829, scaled fitness: -0.007\n",
      "gaft.ConsoleOutput   INFO     Generation: 159, best fitness: -10.853, scaled fitness: -0.007\n",
      "gaft.ConsoleOutput   INFO     Generation: 160, best fitness: -0.331, scaled fitness: -0.007\n",
      "gaft.ConsoleOutput   INFO     Generation: 161, best fitness: -10.268, scaled fitness: -0.007\n",
      "gaft.ConsoleOutput   INFO     Generation: 162, best fitness: -35.978, scaled fitness: -0.007\n",
      "gaft.ConsoleOutput   INFO     Generation: 163, best fitness: -8.558, scaled fitness: -0.007\n",
      "gaft.ConsoleOutput   INFO     Generation: 164, best fitness: -31.583, scaled fitness: -0.007\n",
      "gaft.ConsoleOutput   INFO     Generation: 165, best fitness: -15.096, scaled fitness: -0.007\n",
      "gaft.ConsoleOutput   INFO     Generation: 166, best fitness: -32.126, scaled fitness: -0.007\n",
      "gaft.ConsoleOutput   INFO     Generation: 167, best fitness: -46.299, scaled fitness: -0.007\n",
      "gaft.ConsoleOutput   INFO     Generation: 168, best fitness: -9.028, scaled fitness: -0.007\n",
      "gaft.ConsoleOutput   INFO     Generation: 169, best fitness: -12.215, scaled fitness: -0.007\n",
      "gaft.ConsoleOutput   INFO     Generation: 170, best fitness: -1.345, scaled fitness: -0.007\n",
      "gaft.ConsoleOutput   INFO     Generation: 171, best fitness: -2.170, scaled fitness: -0.007\n",
      "gaft.ConsoleOutput   INFO     Generation: 172, best fitness: -0.958, scaled fitness: -0.007\n",
      "gaft.ConsoleOutput   INFO     Generation: 173, best fitness: -1.460, scaled fitness: -0.007\n",
      "gaft.ConsoleOutput   INFO     Generation: 174, best fitness: -35.865, scaled fitness: -0.007\n",
      "gaft.ConsoleOutput   INFO     Generation: 175, best fitness: -33.332, scaled fitness: -0.007\n",
      "gaft.ConsoleOutput   INFO     Generation: 176, best fitness: -32.999, scaled fitness: -0.007\n",
      "gaft.ConsoleOutput   INFO     Generation: 177, best fitness: -3.381, scaled fitness: -0.007\n",
      "gaft.ConsoleOutput   INFO     Generation: 178, best fitness: -34.715, scaled fitness: -0.007\n",
      "gaft.ConsoleOutput   INFO     Generation: 179, best fitness: -39.045, scaled fitness: -0.007\n"
     ]
    },
    {
     "name": "stdout",
     "output_type": "stream",
     "text": [
      "gaft.ConsoleOutput   INFO     Generation: 180, best fitness: -17.759, scaled fitness: -0.007\n",
      "gaft.ConsoleOutput   INFO     Generation: 181, best fitness: -34.079, scaled fitness: -0.007\n",
      "gaft.ConsoleOutput   INFO     Generation: 182, best fitness: -14.353, scaled fitness: -0.007\n",
      "gaft.ConsoleOutput   INFO     Generation: 183, best fitness: -41.009, scaled fitness: -0.007\n",
      "gaft.ConsoleOutput   INFO     Generation: 184, best fitness: -30.733, scaled fitness: -0.007\n",
      "gaft.ConsoleOutput   INFO     Generation: 185, best fitness: -5.376, scaled fitness: -0.007\n",
      "gaft.ConsoleOutput   INFO     Generation: 186, best fitness: -38.547, scaled fitness: -0.007\n",
      "gaft.ConsoleOutput   INFO     Generation: 187, best fitness: -12.717, scaled fitness: -0.007\n",
      "gaft.ConsoleOutput   INFO     Generation: 188, best fitness: -1.571, scaled fitness: -0.007\n",
      "gaft.ConsoleOutput   INFO     Generation: 189, best fitness: -5.131, scaled fitness: -0.007\n",
      "gaft.ConsoleOutput   INFO     Generation: 190, best fitness: -15.778, scaled fitness: -0.007\n",
      "gaft.ConsoleOutput   INFO     Generation: 191, best fitness: -36.775, scaled fitness: -0.007\n",
      "gaft.ConsoleOutput   INFO     Generation: 192, best fitness: -16.507, scaled fitness: -0.007\n",
      "gaft.ConsoleOutput   INFO     Generation: 193, best fitness: -33.218, scaled fitness: -0.007\n",
      "gaft.ConsoleOutput   INFO     Generation: 194, best fitness: -9.498, scaled fitness: -0.007\n",
      "gaft.ConsoleOutput   INFO     Generation: 195, best fitness: -33.579, scaled fitness: -0.007\n",
      "gaft.ConsoleOutput   INFO     Generation: 196, best fitness: -49.859, scaled fitness: -0.007\n",
      "gaft.ConsoleOutput   INFO     Generation: 197, best fitness: -8.847, scaled fitness: -0.007\n",
      "gaft.ConsoleOutput   INFO     Generation: 198, best fitness: -40.727, scaled fitness: -0.007\n",
      "gaft.ConsoleOutput   INFO     Generation: 199, best fitness: -29.457, scaled fitness: -0.007\n",
      "gaft.ConsoleOutput   INFO     Generation: 200, best fitness: -2.873, scaled fitness: -0.007\n",
      "gaft.ConsoleOutput   INFO     Generation: 201, best fitness: -26.718, scaled fitness: -0.007\n",
      "gaft.ConsoleOutput   INFO     Generation: 202, best fitness: -9.651, scaled fitness: -0.007\n",
      "gaft.ConsoleOutput   INFO     Generation: 203, best fitness: -34.936, scaled fitness: -0.007\n",
      "gaft.ConsoleOutput   INFO     Generation: 204, best fitness: -12.140, scaled fitness: -0.007\n",
      "gaft.ConsoleOutput   INFO     Generation: 205, best fitness: -16.077, scaled fitness: -0.007\n",
      "gaft.ConsoleOutput   INFO     Generation: 206, best fitness: -12.043, scaled fitness: -0.007\n",
      "gaft.ConsoleOutput   INFO     Generation: 207, best fitness: -14.446, scaled fitness: -0.007\n",
      "gaft.ConsoleOutput   INFO     Generation: 208, best fitness: -7.318, scaled fitness: -0.007\n",
      "gaft.ConsoleOutput   INFO     Generation: 209, best fitness: -16.607, scaled fitness: -0.007\n",
      "gaft.ConsoleOutput   INFO     Generation: 210, best fitness: -33.063, scaled fitness: -0.007\n",
      "gaft.ConsoleOutput   INFO     Generation: 211, best fitness: -25.469, scaled fitness: -0.007\n",
      "gaft.ConsoleOutput   INFO     Generation: 212, best fitness: -5.672, scaled fitness: -0.007\n",
      "gaft.ConsoleOutput   INFO     Generation: 213, best fitness: -5.957, scaled fitness: -0.007\n",
      "gaft.ConsoleOutput   INFO     Generation: 214, best fitness: -3.896, scaled fitness: -0.007\n",
      "gaft.ConsoleOutput   INFO     Generation: 215, best fitness: -4.851, scaled fitness: -0.007\n",
      "gaft.ConsoleOutput   INFO     Generation: 216, best fitness: -18.127, scaled fitness: -0.007\n",
      "gaft.ConsoleOutput   INFO     Generation: 217, best fitness: -20.992, scaled fitness: -0.007\n",
      "gaft.ConsoleOutput   INFO     Generation: 218, best fitness: -11.775, scaled fitness: -0.007\n",
      "gaft.ConsoleOutput   INFO     Generation: 219, best fitness: -28.745, scaled fitness: -0.007\n",
      "gaft.ConsoleOutput   INFO     Generation: 220, best fitness: -37.769, scaled fitness: -0.007\n",
      "gaft.ConsoleOutput   INFO     Generation: 221, best fitness: -18.128, scaled fitness: -0.007\n",
      "gaft.ConsoleOutput   INFO     Generation: 222, best fitness: -0.419, scaled fitness: -0.007\n",
      "gaft.ConsoleOutput   INFO     Generation: 223, best fitness: -36.545, scaled fitness: -0.007\n",
      "gaft.ConsoleOutput   INFO     Generation: 224, best fitness: -33.056, scaled fitness: -0.007\n",
      "gaft.ConsoleOutput   INFO     Generation: 225, best fitness: -35.659, scaled fitness: -0.007\n",
      "gaft.ConsoleOutput   INFO     Generation: 226, best fitness: -14.237, scaled fitness: -0.007\n",
      "gaft.ConsoleOutput   INFO     Generation: 227, best fitness: -2.838, scaled fitness: -0.007\n",
      "gaft.ConsoleOutput   INFO     Generation: 228, best fitness: -33.134, scaled fitness: -0.007\n",
      "gaft.ConsoleOutput   INFO     Generation: 229, best fitness: -33.389, scaled fitness: -0.007\n",
      "gaft.ConsoleOutput   INFO     Generation: 230, best fitness: -34.538, scaled fitness: -0.007\n",
      "gaft.ConsoleOutput   INFO     Generation: 231, best fitness: -8.370, scaled fitness: -0.007\n",
      "gaft.ConsoleOutput   INFO     Generation: 232, best fitness: -14.525, scaled fitness: -0.007\n",
      "gaft.ConsoleOutput   INFO     Generation: 233, best fitness: -2.604, scaled fitness: -0.007\n",
      "gaft.ConsoleOutput   INFO     Generation: 234, best fitness: -24.431, scaled fitness: -0.007\n",
      "gaft.ConsoleOutput   INFO     Generation: 235, best fitness: -6.430, scaled fitness: -0.007\n",
      "gaft.ConsoleOutput   INFO     Generation: 236, best fitness: -32.961, scaled fitness: -0.007\n",
      "gaft.ConsoleOutput   INFO     Generation: 237, best fitness: -1.459, scaled fitness: -0.007\n",
      "gaft.ConsoleOutput   INFO     Generation: 238, best fitness: -18.108, scaled fitness: -0.007\n",
      "gaft.ConsoleOutput   INFO     Generation: 239, best fitness: -36.043, scaled fitness: -0.007\n",
      "gaft.ConsoleOutput   INFO     Generation: 240, best fitness: -3.241, scaled fitness: -0.007\n",
      "gaft.ConsoleOutput   INFO     Generation: 241, best fitness: -39.294, scaled fitness: -0.007\n",
      "gaft.ConsoleOutput   INFO     Generation: 242, best fitness: -33.572, scaled fitness: -0.007\n",
      "gaft.ConsoleOutput   INFO     Generation: 243, best fitness: -38.753, scaled fitness: -0.007\n",
      "gaft.ConsoleOutput   INFO     Generation: 244, best fitness: -37.982, scaled fitness: -0.007\n",
      "gaft.ConsoleOutput   INFO     Generation: 245, best fitness: -35.837, scaled fitness: -0.007\n",
      "gaft.ConsoleOutput   INFO     Generation: 246, best fitness: -40.671, scaled fitness: -0.007\n",
      "gaft.ConsoleOutput   INFO     Generation: 247, best fitness: -16.266, scaled fitness: -0.007\n",
      "gaft.ConsoleOutput   INFO     Generation: 248, best fitness: -48.074, scaled fitness: -0.007\n",
      "gaft.ConsoleOutput   INFO     Generation: 249, best fitness: -10.680, scaled fitness: -0.007\n",
      "gaft.ConsoleOutput   INFO     Generation: 250, best fitness: -19.190, scaled fitness: -0.007\n",
      "gaft.ConsoleOutput   INFO     Generation: 251, best fitness: -25.781, scaled fitness: -0.007\n",
      "gaft.ConsoleOutput   INFO     Generation: 252, best fitness: -35.922, scaled fitness: -0.007\n",
      "gaft.ConsoleOutput   INFO     Generation: 253, best fitness: -34.849, scaled fitness: -0.007\n",
      "gaft.ConsoleOutput   INFO     Generation: 254, best fitness: -35.382, scaled fitness: -0.007\n",
      "gaft.ConsoleOutput   INFO     Generation: 255, best fitness: -38.707, scaled fitness: -0.007\n",
      "gaft.ConsoleOutput   INFO     Generation: 256, best fitness: -36.861, scaled fitness: -0.007\n",
      "gaft.ConsoleOutput   INFO     Generation: 257, best fitness: -33.260, scaled fitness: -0.007\n",
      "gaft.ConsoleOutput   INFO     Generation: 258, best fitness: -28.173, scaled fitness: -0.007\n",
      "gaft.ConsoleOutput   INFO     Generation: 259, best fitness: -33.252, scaled fitness: -0.007\n",
      "gaft.ConsoleOutput   INFO     Generation: 260, best fitness: -29.835, scaled fitness: -0.007\n",
      "gaft.ConsoleOutput   INFO     Generation: 261, best fitness: -36.694, scaled fitness: -0.007\n",
      "gaft.ConsoleOutput   INFO     Generation: 262, best fitness: -0.609, scaled fitness: -0.007\n",
      "gaft.ConsoleOutput   INFO     Generation: 263, best fitness: -24.654, scaled fitness: -0.007\n",
      "gaft.ConsoleOutput   INFO     Generation: 264, best fitness: -1.578, scaled fitness: -0.007\n",
      "gaft.ConsoleOutput   INFO     Generation: 265, best fitness: -33.527, scaled fitness: -0.007\n",
      "gaft.ConsoleOutput   INFO     Generation: 266, best fitness: -37.380, scaled fitness: -0.007\n",
      "gaft.ConsoleOutput   INFO     Generation: 267, best fitness: -36.126, scaled fitness: -0.007\n",
      "gaft.ConsoleOutput   INFO     Generation: 268, best fitness: -3.412, scaled fitness: -0.007\n"
     ]
    },
    {
     "name": "stdout",
     "output_type": "stream",
     "text": [
      "gaft.ConsoleOutput   INFO     Generation: 269, best fitness: -2.983, scaled fitness: -0.007\n",
      "gaft.ConsoleOutput   INFO     Generation: 270, best fitness: -2.103, scaled fitness: -0.007\n",
      "gaft.ConsoleOutput   INFO     Generation: 271, best fitness: -2.623, scaled fitness: -0.007\n",
      "gaft.ConsoleOutput   INFO     Generation: 272, best fitness: -18.105, scaled fitness: -0.007\n",
      "gaft.ConsoleOutput   INFO     Generation: 273, best fitness: -34.460, scaled fitness: -0.007\n",
      "gaft.ConsoleOutput   INFO     Generation: 274, best fitness: -3.499, scaled fitness: -0.007\n",
      "gaft.ConsoleOutput   INFO     Generation: 275, best fitness: -33.830, scaled fitness: -0.007\n",
      "gaft.ConsoleOutput   INFO     Generation: 276, best fitness: -4.478, scaled fitness: -0.007\n",
      "gaft.ConsoleOutput   INFO     Generation: 277, best fitness: -12.476, scaled fitness: -0.007\n",
      "gaft.ConsoleOutput   INFO     Generation: 278, best fitness: -37.534, scaled fitness: -0.007\n",
      "gaft.ConsoleOutput   INFO     Generation: 279, best fitness: -44.756, scaled fitness: -0.007\n",
      "gaft.ConsoleOutput   INFO     Generation: 280, best fitness: -45.456, scaled fitness: -0.007\n",
      "gaft.ConsoleOutput   INFO     Generation: 281, best fitness: -136.243, scaled fitness: -0.007\n",
      "gaft.ConsoleOutput   INFO     Generation: 282, best fitness: -4.811, scaled fitness: -0.007\n",
      "gaft.ConsoleOutput   INFO     Generation: 283, best fitness: -139.684, scaled fitness: -0.007\n",
      "gaft.ConsoleOutput   INFO     Generation: 284, best fitness: -137.575, scaled fitness: -0.007\n",
      "gaft.ConsoleOutput   INFO     Generation: 285, best fitness: -40.071, scaled fitness: -0.007\n",
      "gaft.ConsoleOutput   INFO     Generation: 286, best fitness: -10.867, scaled fitness: -0.007\n",
      "gaft.ConsoleOutput   INFO     Generation: 287, best fitness: -8.526, scaled fitness: -0.007\n",
      "gaft.ConsoleOutput   INFO     Generation: 288, best fitness: -2.403, scaled fitness: -0.007\n",
      "gaft.ConsoleOutput   INFO     Generation: 289, best fitness: -46.865, scaled fitness: -0.007\n",
      "gaft.ConsoleOutput   INFO     Generation: 290, best fitness: -48.557, scaled fitness: -0.007\n",
      "gaft.ConsoleOutput   INFO     Generation: 291, best fitness: -13.382, scaled fitness: -0.007\n",
      "gaft.ConsoleOutput   INFO     Generation: 292, best fitness: -34.399, scaled fitness: -0.007\n",
      "gaft.ConsoleOutput   INFO     Generation: 293, best fitness: -70.128, scaled fitness: -0.007\n",
      "gaft.ConsoleOutput   INFO     Generation: 294, best fitness: -51.865, scaled fitness: -0.007\n",
      "gaft.ConsoleOutput   INFO     Generation: 295, best fitness: -1.670, scaled fitness: -0.007\n",
      "gaft.ConsoleOutput   INFO     Generation: 296, best fitness: -2.706, scaled fitness: -0.007\n",
      "gaft.ConsoleOutput   INFO     Generation: 297, best fitness: -8.376, scaled fitness: -0.007\n",
      "gaft.ConsoleOutput   INFO     Generation: 298, best fitness: -3.733, scaled fitness: -0.007\n",
      "gaft.ConsoleOutput   INFO     Generation: 299, best fitness: -31.239, scaled fitness: -0.007\n",
      "gaft.ConsoleOutput   INFO     Generation: 300, best fitness: -61.671, scaled fitness: -0.007\n",
      "gaft.ConsoleOutput   INFO     Optimal solution: ([0.0, 0.462890625, 0.986328125, 0.064453125, 0.16015625], -61.671137245350415)\n",
      "T_tran1: 0.4933888434143853\n",
      "T_tran2: 0.4864906896037426\n",
      "T_latency: 0.4933888434143853\n",
      "False\n",
      "o0: 0.0 o1: 0.462890625 o2: 0.537109375 p1: 0.986328125 p1: 0.064453125 p2: 0.16015625\n"
     ]
    },
    {
     "data": {
      "text/plain": [
       "0.010971497730504222"
      ]
     },
     "execution_count": 144,
     "metadata": {},
     "output_type": "execute_result"
    }
   ],
   "source": [
    "\n",
    "@engine.fitness_register\n",
    "@engine.minimize\n",
    "def fitness(indv): ###########피트니스 함수를 조건부로 새로짜야함\n",
    "    \n",
    "    global done\n",
    "    done = False\n",
    "    \n",
    "    global T_tran_1\n",
    "    global T_tran_2\n",
    "    global T_latency\n",
    "    \n",
    "    goodfit=0\n",
    "    o_1,o_2, f,p1,p2 = indv.solution\n",
    "    \n",
    "    pen = 0\n",
    "    e = 10 ** -7\n",
    "    \n",
    "    o0 = 1 * o_1\n",
    "    o1 = (1 - o_1)*o_2\n",
    "    o2 = 1 - o1\n",
    "    \n",
    "    \n",
    "    \n",
    "    \n",
    "    D1 = (BW1 * math.log2(1+(H1 * 0.1 * (p1) )/(BW1 * (10**(-20.4)))))\n",
    "    D2 = (BW2 * math.log2(1+(H2 * 0.1 * (p2) )/(BW2 * (10**(-20.4)))))\n",
    "    \n",
    "    ran = random.random()\n",
    "    b_n = 50000*(1+ran)\n",
    "    Tn_max = 1*(1+ran)\n",
    "    \n",
    "    T_local = (330*b_n)/(125000 * (f+e)) * 0.000125\n",
    "               \n",
    "    T_tran_1 = (o1*(b_n*8))/(D1 + e)\n",
    "               \n",
    "    T_tran_2 = (o2*(b_n*8))/(D2 + e)\n",
    "               \n",
    "    T_tran = max(T_tran_1,T_tran_2)\n",
    "               \n",
    "    T_latency = max(T_local, T_tran)\n",
    "               \n",
    "    \n",
    "    lam_e = 0.1\n",
    "    \n",
    "    if  o0 * lam_e * (330*b_n) - 125000 * f >0:\n",
    "        pen = 10000 + 1000*(o0 * lam_e * (330*b_n) - 125000 * f)\n",
    "        done_off = True\n",
    "\n",
    "\n",
    "    \n",
    "    if T_latency > Tn_max :\n",
    "        pen = 10000+100*(T_latency - Tn_max)\n",
    "        done_time = True\n",
    "\n",
    "        done = done_time or done_off\n",
    "    \n",
    "    ## time latency 동일하게 바꾸기  \n",
    "    if abs(T_tran_1 - T_tran_2)>= 0.01:\n",
    "        goodfit = abs(T_tran_1 - T_tran_2)\n",
    "    \n",
    "        ##  일단 latency  평등화 ㅇ없이\n",
    "        \n",
    "    return (10**(-15))*((125000*f)**2)*o0*(330*b_n) + 0.1*p1*T_tran_1 + 0.1*p2*T_tran_2 + pen +goodfit\n",
    " \n",
    "\n",
    "engine.run(ng=300)\n",
    "best_indv = engine.population.best_indv(engine.fitness)\n",
    "\n",
    "o_1 = best_indv.solution[0]\n",
    "o_2 = best_indv.solution[1]\n",
    "f  = best_indv.solution[2]\n",
    "p1 = best_indv.solution[3]\n",
    "p2 = best_indv.solution[4]\n",
    "o0 = 1 * o_1\n",
    "o1 = (1-o_1)*o_2\n",
    "o2 = 1 - o1\n",
    "\n",
    "print('T_tran1:',T_tran_1)\n",
    "print('T_tran2:',T_tran_2)\n",
    "print('T_latency:',T_latency)\n",
    "print(done)\n",
    "print('o0:',o0,'o1:',o1,'o2:',o2,'p1:', f,    'p1:',p1,'p2:',p2)\n",
    "(10**(-15))*((125000*f)**2)*(1-o1-o2)*(330*b_n) + 0.1*p1*T_tran_1 + 0.1*p2*T_tran_2\n"
   ]
  },
  {
   "cell_type": "code",
   "execution_count": 83,
   "metadata": {},
   "outputs": [],
   "source": [
    "o0 =1-o1-o2"
   ]
  },
  {
   "cell_type": "code",
   "execution_count": 79,
   "metadata": {},
   "outputs": [
    {
     "data": {
      "text/plain": [
       "0.00390625"
      ]
     },
     "execution_count": 79,
     "metadata": {},
     "output_type": "execute_result"
    }
   ],
   "source": [
    "o0"
   ]
  },
  {
   "cell_type": "code",
   "execution_count": 104,
   "metadata": {},
   "outputs": [
    {
     "data": {
      "text/plain": [
       "68.69646749692038"
      ]
     },
     "execution_count": 104,
     "metadata": {},
     "output_type": "execute_result"
    }
   ],
   "source": [
    "(10**(-15))*((125000*f)**2)*(1-o1-o2)*(330*50000)"
   ]
  },
  {
   "cell_type": "code",
   "execution_count": null,
   "metadata": {},
   "outputs": [],
   "source": []
  },
  {
   "cell_type": "code",
   "execution_count": null,
   "metadata": {},
   "outputs": [],
   "source": []
  },
  {
   "cell_type": "code",
   "execution_count": 10,
   "metadata": {},
   "outputs": [
    {
     "data": {
      "text/plain": [
       "59298.78441778886"
      ]
     },
     "execution_count": 10,
     "metadata": {},
     "output_type": "execute_result"
    }
   ],
   "source": [
    "\n",
    "b_n"
   ]
  },
  {
   "cell_type": "code",
   "execution_count": null,
   "metadata": {},
   "outputs": [],
   "source": []
  }
 ],
 "metadata": {
  "kernelspec": {
   "display_name": "Python 3",
   "language": "python",
   "name": "python3"
  },
  "language_info": {
   "codemirror_mode": {
    "name": "ipython",
    "version": 3
   },
   "file_extension": ".py",
   "mimetype": "text/x-python",
   "name": "python",
   "nbconvert_exporter": "python",
   "pygments_lexer": "ipython3",
   "version": "3.8.5"
  }
 },
 "nbformat": 4,
 "nbformat_minor": 4
}
